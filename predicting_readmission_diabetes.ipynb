{
 "cells": [
  {
   "cell_type": "markdown",
   "metadata": {},
   "source": [
    "# Predicting Hospital Readmission for Diabetes Patients\n",
    "\n",
    "## Introduction\n",
    "The effective management of chronic diseases is a critical challenge in healthcare systems worldwide. Among these chronic conditions, diabetes poses a significant burden on individuals and healthcare providers due to its high prevalence and associated complications. Hospital readmission rates for diabetes patients, particularly within a short time frame, are indicative of suboptimal care coordination, disease management, and patient outcomes.\n",
    "\n",
    "The ability to accurately predict hospital readmissions for diabetes patients can play a vital role in improving patient care, optimizing healthcare resource allocation, and reducing healthcare costs. By identifying individuals at higher risk of readmission, healthcare providers can implement targeted interventions, timely follow-up care, and personalized treatment plans to minimize the likelihood of readmission and enhance patient outcomes.\n",
    "\n",
    "In this project, we aim to develop a predictive model using machine learning techniques to forecast hospital readmission for diabetes patients. By analyzing a comprehensive dataset of patient demographics, clinical variables, medications, and encounter information, we will explore the factors that contribute to readmission risk and build a robust predictive model. The project will involve data preprocessing, feature engineering, model selection, and evaluation to create a reliable tool for healthcare professionals to identify patients who may benefit from targeted interventions and proactive care management.\n",
    "\n",
    "The insights gained from this project have the potential to inform healthcare providers, policymakers, and researchers about the factors influencing hospital readmissions for diabetes patients. By harnessing the power of data-driven approaches, we can enhance the quality of care, optimize resource utilization, and ultimately improve patient outcomes in the management of diabetes."
   ]
  },
  {
   "cell_type": "markdown",
   "metadata": {},
   "source": [
    "## Scoping\n",
    "\n",
    "### Project goals\n",
    "The goal of this project is to develop a machine learning model that predicts the likelihood of hospital readmission for patients with diabetes. The model can assist healthcare providers in identifying high-risk patients and implementing proactive measures to prevent readmissions, improve patient outcomes, and optimize resource allocation.\n",
    "\n",
    "### Data\n",
    "This data comes from UCI Machine Learning Repository, \"Diabetes 130-US hospitals for years 1999-2008\" by  Clore, Krzysztof Cios, Jon DeShazo, and Beata Strack.\n",
    "\n",
    "### Analysis\n",
    "This solution will use descriptive statistics and data visualization to find key figures in understanding the distribution, count, and relationship between variables. Also, select relevant features for the prediction model using techniques such as statistical tests, correlation analysis, or domain knowledge to identify the most predictive variables. Apply machine learning algorithms (such as logistic regression, random forest, or gradient boosting) to develop a predictive model for hospital readmission.\n",
    "\n",
    "### Evaluation\n",
    " Evaluate the performance of the model using appropriate evaluation metrics such as accuracy, precision, recall, and area under the ROC curve. Assess the model's ability to correctly predict hospital readmission and its generalizability."
   ]
  },
  {
   "cell_type": "markdown",
   "metadata": {},
   "source": [
    "## Import Python Modules\n",
    "\n",
    "First import the modules being used for this project:"
   ]
  },
  {
   "cell_type": "code",
   "execution_count": 1,
   "metadata": {},
   "outputs": [],
   "source": [
    "## General libraries\n",
    "import numpy as np\n",
    "import pandas as pd\n",
    "\n",
    "from matplotlib import pyplot as plt\n",
    "import seaborn as sns"
   ]
  },
  {
   "cell_type": "markdown",
   "metadata": {},
   "source": [
    "## Loading the Data\n",
    "\n",
    "To analyze the the data, `pandas` will be used to load the dataset into a `DataFrame` so that it can be explored and visualized with Python."
   ]
  },
  {
   "cell_type": "code",
   "execution_count": 2,
   "metadata": {},
   "outputs": [
    {
     "data": {
      "text/html": [
       "<div>\n",
       "<style scoped>\n",
       "    .dataframe tbody tr th:only-of-type {\n",
       "        vertical-align: middle;\n",
       "    }\n",
       "\n",
       "    .dataframe tbody tr th {\n",
       "        vertical-align: top;\n",
       "    }\n",
       "\n",
       "    .dataframe thead th {\n",
       "        text-align: right;\n",
       "    }\n",
       "</style>\n",
       "<table border=\"1\" class=\"dataframe\">\n",
       "  <thead>\n",
       "    <tr style=\"text-align: right;\">\n",
       "      <th></th>\n",
       "      <th>encounter_id</th>\n",
       "      <th>patient_nbr</th>\n",
       "      <th>race</th>\n",
       "      <th>gender</th>\n",
       "      <th>age</th>\n",
       "      <th>weight</th>\n",
       "      <th>admission_type_id</th>\n",
       "      <th>discharge_disposition_id</th>\n",
       "      <th>admission_source_id</th>\n",
       "      <th>time_in_hospital</th>\n",
       "      <th>...</th>\n",
       "      <th>citoglipton</th>\n",
       "      <th>insulin</th>\n",
       "      <th>glyburide-metformin</th>\n",
       "      <th>glipizide-metformin</th>\n",
       "      <th>glimepiride-pioglitazone</th>\n",
       "      <th>metformin-rosiglitazone</th>\n",
       "      <th>metformin-pioglitazone</th>\n",
       "      <th>change</th>\n",
       "      <th>diabetesMed</th>\n",
       "      <th>readmitted</th>\n",
       "    </tr>\n",
       "  </thead>\n",
       "  <tbody>\n",
       "    <tr>\n",
       "      <th>0</th>\n",
       "      <td>2278392</td>\n",
       "      <td>8222157</td>\n",
       "      <td>Caucasian</td>\n",
       "      <td>Female</td>\n",
       "      <td>[0-10)</td>\n",
       "      <td>?</td>\n",
       "      <td>6</td>\n",
       "      <td>25</td>\n",
       "      <td>1</td>\n",
       "      <td>1</td>\n",
       "      <td>...</td>\n",
       "      <td>No</td>\n",
       "      <td>No</td>\n",
       "      <td>No</td>\n",
       "      <td>No</td>\n",
       "      <td>No</td>\n",
       "      <td>No</td>\n",
       "      <td>No</td>\n",
       "      <td>No</td>\n",
       "      <td>No</td>\n",
       "      <td>NO</td>\n",
       "    </tr>\n",
       "    <tr>\n",
       "      <th>1</th>\n",
       "      <td>149190</td>\n",
       "      <td>55629189</td>\n",
       "      <td>Caucasian</td>\n",
       "      <td>Female</td>\n",
       "      <td>[10-20)</td>\n",
       "      <td>?</td>\n",
       "      <td>1</td>\n",
       "      <td>1</td>\n",
       "      <td>7</td>\n",
       "      <td>3</td>\n",
       "      <td>...</td>\n",
       "      <td>No</td>\n",
       "      <td>Up</td>\n",
       "      <td>No</td>\n",
       "      <td>No</td>\n",
       "      <td>No</td>\n",
       "      <td>No</td>\n",
       "      <td>No</td>\n",
       "      <td>Ch</td>\n",
       "      <td>Yes</td>\n",
       "      <td>&gt;30</td>\n",
       "    </tr>\n",
       "    <tr>\n",
       "      <th>2</th>\n",
       "      <td>64410</td>\n",
       "      <td>86047875</td>\n",
       "      <td>AfricanAmerican</td>\n",
       "      <td>Female</td>\n",
       "      <td>[20-30)</td>\n",
       "      <td>?</td>\n",
       "      <td>1</td>\n",
       "      <td>1</td>\n",
       "      <td>7</td>\n",
       "      <td>2</td>\n",
       "      <td>...</td>\n",
       "      <td>No</td>\n",
       "      <td>No</td>\n",
       "      <td>No</td>\n",
       "      <td>No</td>\n",
       "      <td>No</td>\n",
       "      <td>No</td>\n",
       "      <td>No</td>\n",
       "      <td>No</td>\n",
       "      <td>Yes</td>\n",
       "      <td>NO</td>\n",
       "    </tr>\n",
       "    <tr>\n",
       "      <th>3</th>\n",
       "      <td>500364</td>\n",
       "      <td>82442376</td>\n",
       "      <td>Caucasian</td>\n",
       "      <td>Male</td>\n",
       "      <td>[30-40)</td>\n",
       "      <td>?</td>\n",
       "      <td>1</td>\n",
       "      <td>1</td>\n",
       "      <td>7</td>\n",
       "      <td>2</td>\n",
       "      <td>...</td>\n",
       "      <td>No</td>\n",
       "      <td>Up</td>\n",
       "      <td>No</td>\n",
       "      <td>No</td>\n",
       "      <td>No</td>\n",
       "      <td>No</td>\n",
       "      <td>No</td>\n",
       "      <td>Ch</td>\n",
       "      <td>Yes</td>\n",
       "      <td>NO</td>\n",
       "    </tr>\n",
       "    <tr>\n",
       "      <th>4</th>\n",
       "      <td>16680</td>\n",
       "      <td>42519267</td>\n",
       "      <td>Caucasian</td>\n",
       "      <td>Male</td>\n",
       "      <td>[40-50)</td>\n",
       "      <td>?</td>\n",
       "      <td>1</td>\n",
       "      <td>1</td>\n",
       "      <td>7</td>\n",
       "      <td>1</td>\n",
       "      <td>...</td>\n",
       "      <td>No</td>\n",
       "      <td>Steady</td>\n",
       "      <td>No</td>\n",
       "      <td>No</td>\n",
       "      <td>No</td>\n",
       "      <td>No</td>\n",
       "      <td>No</td>\n",
       "      <td>Ch</td>\n",
       "      <td>Yes</td>\n",
       "      <td>NO</td>\n",
       "    </tr>\n",
       "  </tbody>\n",
       "</table>\n",
       "<p>5 rows × 50 columns</p>\n",
       "</div>"
      ],
      "text/plain": [
       "   encounter_id  patient_nbr             race  gender      age weight  \\\n",
       "0       2278392      8222157        Caucasian  Female   [0-10)      ?   \n",
       "1        149190     55629189        Caucasian  Female  [10-20)      ?   \n",
       "2         64410     86047875  AfricanAmerican  Female  [20-30)      ?   \n",
       "3        500364     82442376        Caucasian    Male  [30-40)      ?   \n",
       "4         16680     42519267        Caucasian    Male  [40-50)      ?   \n",
       "\n",
       "   admission_type_id  discharge_disposition_id  admission_source_id  \\\n",
       "0                  6                        25                    1   \n",
       "1                  1                         1                    7   \n",
       "2                  1                         1                    7   \n",
       "3                  1                         1                    7   \n",
       "4                  1                         1                    7   \n",
       "\n",
       "   time_in_hospital  ... citoglipton insulin  glyburide-metformin  \\\n",
       "0                 1  ...          No      No                   No   \n",
       "1                 3  ...          No      Up                   No   \n",
       "2                 2  ...          No      No                   No   \n",
       "3                 2  ...          No      Up                   No   \n",
       "4                 1  ...          No  Steady                   No   \n",
       "\n",
       "   glipizide-metformin  glimepiride-pioglitazone  metformin-rosiglitazone  \\\n",
       "0                   No                        No                       No   \n",
       "1                   No                        No                       No   \n",
       "2                   No                        No                       No   \n",
       "3                   No                        No                       No   \n",
       "4                   No                        No                       No   \n",
       "\n",
       "   metformin-pioglitazone  change diabetesMed readmitted  \n",
       "0                      No      No          No         NO  \n",
       "1                      No      Ch         Yes        >30  \n",
       "2                      No      No         Yes         NO  \n",
       "3                      No      Ch         Yes         NO  \n",
       "4                      No      Ch         Yes         NO  \n",
       "\n",
       "[5 rows x 50 columns]"
      ]
     },
     "execution_count": 2,
     "metadata": {},
     "output_type": "execute_result"
    }
   ],
   "source": [
    "df = pd.read_csv('diabetic_data.csv')\n",
    "df.head()"
   ]
  },
  {
   "cell_type": "code",
   "execution_count": null,
   "metadata": {},
   "outputs": [],
   "source": [
    "df.info()"
   ]
  },
  {
   "cell_type": "markdown",
   "metadata": {},
   "source": [
    "#### Data Characteristics\n",
    "\n",
    "The dataset represents 10 years (1999-2008) of clinical care at 130 US hospitals and integrated delivery networks. It includes over 50 features representing patient and hospital outcomes. Information was extracted from the database for encounters that satisfied the following criteria.\n",
    "\n",
    "1.\tIt is an inpatient encounter (a hospital admission).\n",
    "2.\tIt is a diabetic encounter, that is, one during which any kind of diabetes was entered to the system as a diagnosis.\n",
    "3.\tThe length of stay was at least 1 day and at most 14 days.\n",
    "4.\tLaboratory tests were performed during the encounter.\n",
    "5.\tMedications were administered during the encounter.\n",
    "\n",
    "The data contains such attributes as patient number, race, gender, age, admission type, time in hospital, medical specialty of admitting physician, number of lab test performed, HbA1c test result, diagnosis, number of medication, diabetic medications, number of outpatient, inpatient, and emergency visits in the year before the hospitalization, etc."
   ]
  },
  {
   "cell_type": "markdown",
   "metadata": {},
   "source": [
    "The columns in the dataset include: \n",
    "\n",
    "- **encounter_id:** Unique identifier of an encounter\n",
    "- **patient_nbr:** Unique identifier of a patient\n",
    "- **race:** Values: `Caucasian`, `Asian`, `African American`, `Hispanic`, and `other`\n",
    "- **gender:** Values: `male`, `female`, and `unknown/invalid`\n",
    "- **age:** Grouped in 10-year intervals: `[0, 10)`, `[10, 20)`,..., `[90, 100)`\n",
    "- **weight:** Weight in pounds, separated by intervals like `'[0-25)'`, `'[25-50)'`,..., `'>200'`\n",
    "- **admission_type_id:** Integer identifier corresponding to 9 distinct values, for example, `emergency`, `urgent`, `elective`, `newborn`, and `not available`\n",
    "- **discharge_disposition_id:** Integer identifier corresponding to 29 distinct values, for example, `discharged to home`, `expired`, and `not available`\n",
    "- **admission_source_id:** Integer identifier corresponding to 21 distinct values, for example, `physician referral`, `emergency room`, and `transfer from a hospital`\n",
    "- **time_in_hospital:** Integer number of days between admission and discharge\n",
    "  \n",
    "- **payer_code:** Integer identifier corresponding to 23 distinct values, for example, `Blue Cross/Blue Shield`, `Medicare`, and `self-pay`\n",
    "- **medical_specialty:** Integer identifier of a specialty of the admitting physician, corresponding to 84 distinct values, for example, `cardiology`, `internal medicine`, `family/general practice`, and `surgeon`\n",
    "- **num_lab_procedures:** Number of lab tests performed during the encounter\n",
    "- **num_procedures:** Number of procedures (other than lab tests) performed during the encounter\n",
    "- **num_medications:** Number of distinct generic names administered during the encounter\n",
    "- **number_outpatient:** Number of outpatient visits of the patient in the year preceding the encounter\n",
    "- **number_emergency:** Number of emergency visits of the patient in the year preceding the encounter\n",
    "- **number_inpatient:** Number of inpatient visits of the patient in the year preceding the encounter\n",
    "- **diag_1:** The primary diagnosis (coded as first three digits of ICD9); 848 distinct values\n",
    "- **diag_2:** Secondary diagnosis (coded as first three digits of ICD9); 923 distinct values\n",
    "- **diag_3:** Additional secondary diagnosis (coded as first three digits of ICD9); 954 distinct values\n",
    "- **number_diagnoses:** Number of diagnoses entered to the system\n",
    "- **max_glu_serum:** Indicates the range of the result or if the test was not taken. Values: `>200`, `>300`, `normal`, and `none` if not measured\n",
    "- **A1Cresult:** Indicates the range of the result or if the test was not taken. Values: `>8` if the result was greater than 8%, `>7` if the result was greater than 7% but less than 8%, `normal` if the result was less than 7%, and `none` if not measured"
   ]
  },
  {
   "cell_type": "markdown",
   "metadata": {},
   "source": [
    "For these features, they have the same description:\n",
    "\n",
    "'The feature indicates whether the drug was prescribed or there was a change in the dosage. Values: `up` if the dosage was increased during the encounter, `down` if the dosage was decreased, `steady` if the dosage did not change, and `no` if the drug was not prescribed'\n",
    "\n",
    "- **metformin** \n",
    "- **repaglinide** \n",
    "- **nateglinide**\n",
    "- **chlorpropamide**\n",
    "- **glimepiride**\n",
    "- **acetohexamide**\n",
    "- **glipizide**\n",
    "- **glyburide**\n",
    "- **tolbutamide**\n",
    "- **pioglitazone**\n",
    "- **rosiglitazone**\n",
    "- **acarbose**\n",
    "- **miglitol**\n",
    "- **troglitazone**\n",
    "- **tolazamide**\n",
    "- **examide**\n",
    "- **citoglipton**\n",
    "- **insulin**\n",
    "- **glyburide.metformin**\n",
    "- **glipizide.metformin**\n",
    "- **glimepiride.pioglitazone**\n",
    "- **metformin.rosiglitazone**\n",
    "- **metformin.pioglitazone**\n",
    "\n",
    "(End of identical descriptions)"
   ]
  },
  {
   "cell_type": "markdown",
   "metadata": {},
   "source": [
    "- **change:** Indicates if there was a change in diabetic medications (either dosage or generic name). Values: `change` and `no change`\n",
    "- **diabetesMed:** Indicates if there was any diabetic medication prescribed. Values: `yes` and `no`\n",
    "- **readmitted:** Days to inpatient readmission. Values: `<30` if the patient was readmitted in less than 30 days, `>30` if the patient was readmitted in more than 30 days, and `No` for no record of readmission."
   ]
  },
  {
   "cell_type": "markdown",
   "metadata": {},
   "source": [
    "This is some additional information on `ID`s for certain features.\n",
    "\n",
    "**admission_type_id**:\n",
    "  - 1: Emergency\n",
    "  - 2: Urgent\n",
    "  - 3: Elective\n",
    "  - 4: Newborn\n",
    "  - 5: Not Available\n",
    "  - 6: NULL\n",
    "  - 7: Trauma Center\n",
    "  - 8: Not Mapped\n",
    "  \n",
    "**discharge_disposition_id**\n",
    "  - 1: Discharged to home\n",
    "  - 2: Discharged/transferred to another short term hospital\n",
    "  - 3: Discharged/transferred to SNF\n",
    "  - 4: Discharged/transferred to ICF\n",
    "  - 5: Discharged/transferred to another type of inpatient care institution\n",
    "  - 6: Discharged/transferred to home with home health service\n",
    "  - 7: Left AMA\n",
    "  - 8: Discharged/transferred to home under care of Home IV provider\n",
    "  - 9: Admitted as an inpatient to this hospital\n",
    "  - 10: Neonate discharged to another hospital for neonatal aftercare\n",
    "  - 11: Expired\n",
    "  - 12: Still patient or expected to return for outpatient services\n",
    "  - 13: Hospice / home\n",
    "  - 14: Hospice / medical facility\n",
    "  - 15: Discharged/transferred within this institution to Medicare approved swing bed\n",
    "  - 16: Discharged/transferred/referred another institution for outpatient services\n",
    "  - 17: Discharged/transferred/referred to this institution for outpatient services\n",
    "  - 18: NULL\n",
    "  - 19: \"Expired at home. Medicaid only, hospice.\"\n",
    "  - 20: \"Expired in a medical facility. Medicaid only, hospice.\"\n",
    "  - 21: \"Expired, place unknown. Medicaid only, hospice.\"\n",
    "  - 22: Discharged/transferred to another rehab fac including rehab units of a hospital.\n",
    "  - 23: Discharged/transferred to a long term care hospital.\n",
    "  - 24: Discharged/transferred to a nursing facility certified under Medicaid but not certified under Medicare.\n",
    "  - 25: Not Mapped\n",
    "  - 26: Unknown/Invalid\n",
    "  - 27: Discharged/transferred to a federal health care facility.\n",
    "  - 28: Discharged/transferred/referred to a psychiatric hospital of psychiatric distinct part unit of a hospital\n",
    "  - 29: Discharged/transferred to a Critical Access Hospital (CAH).\n",
    "  - 30: Discharged/transferred to another Type of Health Care Institution not Defined Elsewhere\n",
    "\n",
    "**admission_source_id**\n",
    "  - 1: Physician Referral\n",
    "  - 2: Clinic Referral\n",
    "  - 3: HMO Referral\n",
    "  - 4: Transfer from a hospital\n",
    "  - 5: Transfer from a Skilled Nursing Facility (SNF)\n",
    "  - 6: Transfer from another health care facility\n",
    "  - 7: Emergency Room\n",
    "  - 8: Court/Law Enforcement\n",
    "  - 9: Not Available\n",
    "  - 10: Transfer from critial access hospital\n",
    "  - 11: Normal Delivery\n",
    "  - 12: Premature Delivery\n",
    "  - 13: Sick Baby\n",
    "  - 14: Extramural Birth\n",
    "  - 15: Not Available\n",
    "  - 17: NULL\n",
    "  - 18: Transfer From Another Home Health Agency\n",
    "  - 19: Readmission to Same Home Health Agency\n",
    "  - 20: Not Mapped\n",
    "  - 21: Unknown/Invalid\n",
    "  - 22: Transfer from hospital inpt/same fac reslt in a sep claim\n",
    "  - 23: Born inside this hospital\n",
    "  - 24: Born outside this hospital\n",
    "  - 25: Transfer from Ambulatory Surgery Center\n",
    "  - 26: Transfer from Hospice"
   ]
  },
  {
   "cell_type": "markdown",
   "metadata": {},
   "source": [
    "## Explore the Data\n",
    "\n",
    "First we want to look for missing data. We can use `.dtypes()` to return the data types of each column in the DataFrame `df`."
   ]
  },
  {
   "cell_type": "code",
   "execution_count": null,
   "metadata": {},
   "outputs": [],
   "source": [
    "df.dtypes"
   ]
  },
  {
   "cell_type": "markdown",
   "metadata": {},
   "source": [
    "There are a lot of columns with object types which typically represents string values in pandas. This could also indicate a mixture of strings, integers, or NULLs in the columns. Let's check for missing data first using `.isnull()`"
   ]
  },
  {
   "cell_type": "code",
   "execution_count": null,
   "metadata": {},
   "outputs": [],
   "source": [
    "df.isnull().sum()"
   ]
  },
  {
   "cell_type": "markdown",
   "metadata": {},
   "source": [
    "There is no missing data values, so it still could be a mixture of strings and integers. Let's take a closer look at the first `object` type column `race`."
   ]
  },
  {
   "cell_type": "code",
   "execution_count": null,
   "metadata": {},
   "outputs": [],
   "source": [
    "df.race.unique()"
   ]
  },
  {
   "cell_type": "markdown",
   "metadata": {},
   "source": [
    "Looks to be just strings in here, although later we will address the `'?'` value in the `race` column. Let's try to look at a few more to make sure there isn't anything to take care of."
   ]
  },
  {
   "cell_type": "code",
   "execution_count": null,
   "metadata": {},
   "outputs": [],
   "source": [
    "df.weight.unique()"
   ]
  },
  {
   "cell_type": "code",
   "execution_count": null,
   "metadata": {},
   "outputs": [],
   "source": [
    "df.medical_specialty.unique()"
   ]
  },
  {
   "cell_type": "code",
   "execution_count": null,
   "metadata": {},
   "outputs": [],
   "source": [
    "df.diag_1.unique()"
   ]
  },
  {
   "cell_type": "code",
   "execution_count": null,
   "metadata": {},
   "outputs": [],
   "source": [
    "df.insulin.unique()"
   ]
  },
  {
   "cell_type": "code",
   "execution_count": null,
   "metadata": {},
   "outputs": [],
   "source": [
    "df.readmitted.unique()"
   ]
  },
  {
   "cell_type": "markdown",
   "metadata": {},
   "source": [
    "Looks to be just strings in `object` labeled columns, although there is `'?'s` for presumptively missing data in place of `NULL`s. "
   ]
  },
  {
   "cell_type": "markdown",
   "metadata": {},
   "source": [
    "#### Race and Readmittance\n",
    "\n",
    "Let's take a peek at some of the relationship between some of these columns with the `'readmitted'` column."
   ]
  },
  {
   "cell_type": "code",
   "execution_count": null,
   "metadata": {},
   "outputs": [],
   "source": [
    "# Setup data for plotting\n",
    "race_readmitted = df.groupby(['race', 'readmitted']).size().unstack()\n",
    "\n",
    "# Plot the grouped bar plot\n",
    "race_readmitted.plot(kind='bar', stacked=False)\n",
    "\n",
    "# Add labels and title\n",
    "plt.xlabel('Race')\n",
    "plt.ylabel('Count')\n",
    "plt.title('Readmission Status by Race')\n",
    "\n",
    "plt.xticks(rotation=45)\n",
    "\n",
    "# Display the plot\n",
    "plt.show()"
   ]
  },
  {
   "cell_type": "markdown",
   "metadata": {},
   "source": [
    "As a reminder of the keys for `readmitted`:\n",
    "\n",
    "- `<30` if the patient was readmitted in less than 30 days\n",
    "- `>30` if the patient was readmitted in more than 30 days\n",
    "- `NO` for no record of readmission."
   ]
  },
  {
   "cell_type": "code",
   "execution_count": null,
   "metadata": {},
   "outputs": [],
   "source": [
    "# Calculate the total count of all categories\n",
    "total_count = df.groupby('readmitted').size().sum()\n",
    "\n",
    "# Setup data for plotting\n",
    "race_readmitted = df.groupby(['race', 'readmitted']).size().unstack()\n",
    "\n",
    "# Calculate the overall proportion by dividing each count by the total count of all categories\n",
    "proportion_race_readmitted = race_readmitted.div(total_count) * 100\n",
    "\n",
    "# Plot the grouped bar plot\n",
    "ax = proportion_race_readmitted.plot(kind='bar', stacked=True)\n",
    "\n",
    "# Add labels and title\n",
    "ax.set_xlabel('Race')\n",
    "ax.set_ylabel('Percentage')\n",
    "ax.set_title('Readmission Status by Race')\n",
    "\n",
    "# Rotate x-axis labels\n",
    "ax.set_xticklabels(ax.get_xticklabels(), rotation=45)\n",
    "\n",
    "# Add y-axis grids\n",
    "ax.yaxis.grid(True, linestyle='--', zorder=0)\n",
    "\n",
    "# Display the plot\n",
    "plt.show()"
   ]
  },
  {
   "cell_type": "markdown",
   "metadata": {},
   "source": [
    "Something that seems off is the proportion of `Hispanic` in the Dataset. According to the [U.S. Census July 1, 2022](https://www.census.gov/quickfacts/fact/table/US/PST045222), the `Hispanic` proportion is 19.1%, `Asian` alone is 6.3%, `African American` is 13.6%, and `White` is 58.9%. The discrepancy with this Dataset could be a few things, one being, for example, that people who are both `Hispanic` and `Caucasian` were labeled as just `Caucasian`. Another possibility is that `Hispanic` people are not using healthcare services as much as there counterparts. Another cause could be that `Hispanic` people don't suffer as much with Diabetes compared to other Races, although given the numbers from [diabetes.org](https://diabetes.org/about-us/statistics/about-diabetes), that doesn't seem to be the case. Similar arguments could be made for the `Asian` demographic.\n",
    "\n",
    "This [article](https://www.kff.org/coronavirus-covid-19/poll-finding/health-and-health-care-experiences-of-hispanic-adults/) might shed some light on the issue. The conclusion is these findings show that, consistent with research from prior to the pandemic, `Hispanic` adults are more likely to be uninsured than their `Caucasian` counterparts. They also are less likely to have a usual source of care other than an emergency room and to rely on community health centers as their source of care."
   ]
  },
  {
   "cell_type": "markdown",
   "metadata": {},
   "source": [
    "#### Weight and Readmittance\n",
    "\n",
    "Let's take a look at weight and readmittance of patients with Diabetes."
   ]
  },
  {
   "cell_type": "code",
   "execution_count": null,
   "metadata": {},
   "outputs": [],
   "source": [
    "# Setup data for plotting\n",
    "grouped_cols = df.groupby(['weight', 'readmitted']).size().unstack()\n",
    "\n",
    "# Plot the grouped bar plot\n",
    "grouped_cols.plot(kind='bar', stacked=False)\n",
    "\n",
    "# Add labels and title\n",
    "plt.xlabel('Weight')\n",
    "plt.ylabel('Count')\n",
    "plt.title('Readmission Status by Weight')\n",
    "\n",
    "plt.xticks(rotation=45)\n",
    "\n",
    "# Display the plot\n",
    "plt.show()"
   ]
  },
  {
   "cell_type": "markdown",
   "metadata": {},
   "source": [
    "Just taking a glance, it doesn't seem `weight` was taken to account for most of these admissions. Weight, if measured, could be used as an indicator for high risk patients. For model creation purposes though, we will exclude `weight` from the rest of the analysis due to lack of data."
   ]
  },
  {
   "cell_type": "markdown",
   "metadata": {},
   "source": [
    "#### Gender and Readmittance"
   ]
  },
  {
   "cell_type": "code",
   "execution_count": null,
   "metadata": {},
   "outputs": [],
   "source": [
    "# Setup data for plotting\n",
    "grouped_cols = df.groupby(['gender', 'readmitted']).size().unstack()\n",
    "\n",
    "# Plot the grouped bar plot\n",
    "grouped_cols.plot(kind='bar', stacked=False)\n",
    "\n",
    "# Add labels and title\n",
    "plt.xlabel('Gender')\n",
    "plt.ylabel('Count')\n",
    "plt.title('Readmission Status by Gender')\n",
    "\n",
    "plt.xticks(rotation=45)\n",
    "\n",
    "# Display the plot\n",
    "plt.show()"
   ]
  },
  {
   "cell_type": "code",
   "execution_count": null,
   "metadata": {},
   "outputs": [],
   "source": [
    "unknown_count = len(df[df['gender'] == 'Unknown/Invalid'])\n",
    "print('Unknown count:', unknown_count)"
   ]
  },
  {
   "cell_type": "markdown",
   "metadata": {},
   "source": [
    "There were only three cases where `gender` was labeled as **Unknown/Invalid**, hence the appearance of the graph. There are more females than male in the dataset, and the distribution for the different readmittance values seem proportionally similar."
   ]
  },
  {
   "cell_type": "markdown",
   "metadata": {},
   "source": [
    "#### Age and Readmittance"
   ]
  },
  {
   "cell_type": "code",
   "execution_count": null,
   "metadata": {},
   "outputs": [],
   "source": [
    "# Setup data for plotting\n",
    "grouped_cols = df.groupby(['age', 'readmitted']).size().unstack()\n",
    "\n",
    "# Plot the grouped bar plot\n",
    "grouped_cols.plot(kind='bar', stacked=False)\n",
    "\n",
    "# Add labels and title\n",
    "plt.xlabel('Age')\n",
    "plt.ylabel('Count')\n",
    "plt.title('Readmission Status by Age')\n",
    "\n",
    "plt.xticks(rotation=45)\n",
    "\n",
    "# Display the plot\n",
    "plt.show()"
   ]
  },
  {
   "cell_type": "markdown",
   "metadata": {},
   "source": [
    "This graph shows the distribution of readmittance status versus the age of the patient. Looks like most patients were between the ages 40-90 years old. This seems reasonable since people older than 45 are more likely to develop type 2 diabetes according to [NIDDK (National Institute of Diabetes and Digestive and Kidney Diseases)](https://www.niddk.nih.gov/health-information/diabetes/overview/what-is-diabetes/type-2-diabetes). \n",
    "\n",
    "The average life expectancy in the US between 1999-2008 was ~77 years via [worldbank.org](https://datatopics.worldbank.org/world-development-indicators/). This may explain the sharp decline in overall hospitalization numbers for patients 90+ years old."
   ]
  },
  {
   "cell_type": "markdown",
   "metadata": {},
   "source": [
    "#### Time in Hospital and Readmittance"
   ]
  },
  {
   "cell_type": "code",
   "execution_count": null,
   "metadata": {},
   "outputs": [],
   "source": [
    "# Setup data for plotting\n",
    "grouped_cols = df.groupby(['time_in_hospital', 'readmitted']).size().unstack()\n",
    "\n",
    "# Plot the grouped bar plot\n",
    "grouped_cols.plot(kind='bar', stacked=False)\n",
    "\n",
    "# Add labels and title\n",
    "plt.xlabel('Time in Hospital (days)')\n",
    "plt.ylabel('Count')\n",
    "plt.title('Readmission Status by Time Spent in Hospital')\n",
    "\n",
    "plt.xticks(rotation=45)\n",
    "\n",
    "# Display the plot\n",
    "plt.show()"
   ]
  },
  {
   "cell_type": "markdown",
   "metadata": {},
   "source": [
    "The distribution for time spent in Hospital and readmittance shows that most patients spend 1-4 days between admission and discharge."
   ]
  },
  {
   "cell_type": "markdown",
   "metadata": {},
   "source": [
    "#### Number of Lab Procedures and Readmittance"
   ]
  },
  {
   "cell_type": "code",
   "execution_count": null,
   "metadata": {},
   "outputs": [],
   "source": [
    "df_sorted = df.sort_values('num_lab_procedures')\n",
    "df_sorted.num_lab_procedures.unique()"
   ]
  },
  {
   "cell_type": "code",
   "execution_count": null,
   "metadata": {},
   "outputs": [],
   "source": [
    "# Setup data for plotting\n",
    "grouped_cols = df.groupby(['num_lab_procedures', 'readmitted']).size().unstack()\n",
    "\n",
    "# Plot the grouped bar plot\n",
    "grouped_cols.plot(kind='bar', stacked=True)\n",
    "\n",
    "# Add labels and title\n",
    "plt.xlabel('Lab Tests Performed')\n",
    "plt.ylabel('Count')\n",
    "plt.title('Readmission Status by Number of Lab Tests')\n",
    "\n",
    "# Set the x-axis tick locations and labels\n",
    "x_ticks = range(0, 133, 6)\n",
    "\n",
    "plt.xticks(x_ticks, rotation=45)\n",
    "\n",
    "# Display the plot\n",
    "plt.show()"
   ]
  },
  {
   "cell_type": "markdown",
   "metadata": {},
   "source": [
    "This graph shows the distribution between the number of tests done during the encounter and readmittance status. There is a large spike at `1` and most of the distribution landing between ~`35`-`55` lab tests done. \n",
    "\n",
    "There is a small spike around `10` as well. These may indicate specific procedures that are dependent in specific Health Institutes. For example, if admitted, do at least one test to figure out what is wrong. Then take `X` amount of tests afterwards depending on what you fine."
   ]
  },
  {
   "cell_type": "markdown",
   "metadata": {},
   "source": [
    "#### Number of Procedures and Readmittance"
   ]
  },
  {
   "cell_type": "code",
   "execution_count": null,
   "metadata": {},
   "outputs": [],
   "source": [
    "# Setup data for plotting\n",
    "grouped_cols = df.groupby(['num_procedures', 'readmitted']).size().unstack()\n",
    "\n",
    "# Plot the grouped bar plot\n",
    "grouped_cols.plot(kind='bar', stacked=False)\n",
    "\n",
    "# Add labels and title\n",
    "plt.xlabel('Number of Procedures (excluding Lab Tests)')\n",
    "plt.ylabel('Count')\n",
    "plt.title('Readmission Status by Number of Procedures')\n",
    "\n",
    "plt.xticks(rotation=45)\n",
    "\n",
    "# Display the plot\n",
    "plt.show()"
   ]
  },
  {
   "cell_type": "markdown",
   "metadata": {},
   "source": [
    "This plot shows the distribution of number of procedures and readmittance. Most patients had `0` procedures done during their admittance."
   ]
  },
  {
   "cell_type": "markdown",
   "metadata": {},
   "source": [
    "#### Number of Medications and Readmittance."
   ]
  },
  {
   "cell_type": "code",
   "execution_count": null,
   "metadata": {},
   "outputs": [],
   "source": [
    "df_sorted = df.sort_values('num_medications')\n",
    "df_sorted.num_medications.unique()"
   ]
  },
  {
   "cell_type": "code",
   "execution_count": null,
   "metadata": {},
   "outputs": [],
   "source": [
    "# Setup data for plotting\n",
    "grouped_cols = df.groupby(['num_medications', 'readmitted']).size().unstack()\n",
    "\n",
    "# Plot the grouped bar plot\n",
    "grouped_cols.plot(kind='bar', stacked=True)\n",
    "\n",
    "# Add labels and title\n",
    "plt.xlabel('Number of Distinct Medications')\n",
    "plt.ylabel('Count')\n",
    "plt.title('Readmission Status by Number of Medications Administered')\n",
    "\n",
    "# Set the x-axis tick locations and labels\n",
    "x_ticks = range(0, 82, 5)\n",
    "\n",
    "plt.xticks(x_ticks, rotation=45)\n",
    "\n",
    "# Display the plot\n",
    "plt.show()"
   ]
  },
  {
   "cell_type": "markdown",
   "metadata": {},
   "source": [
    "This plot shows the distribution of number of distinct generic names administered and readmittance status. Seems most people admitted are given ~`7`-`20` different types of medication."
   ]
  },
  {
   "cell_type": "markdown",
   "metadata": {},
   "source": [
    "#### Outpatient, Emergency, and Inpatient visits versus Readmittance"
   ]
  },
  {
   "cell_type": "code",
   "execution_count": null,
   "metadata": {},
   "outputs": [],
   "source": [
    "# Setup data for plotting\n",
    "grouped_cols_1 = df.groupby(['number_outpatient', 'readmitted']).size().unstack()\n",
    "grouped_cols_2 = df.groupby(['number_emergency', 'readmitted']).size().unstack()\n",
    "grouped_cols_3 = df.groupby(['number_inpatient', 'readmitted']).size().unstack()\n",
    "\n",
    "# # Extract unique values from 'number_outpatient' column\n",
    "# unique_values = df['number_outpatient'].unique()\n",
    "\n",
    "# # Filter out values greater than 10 and every other value\n",
    "# filtered_ticks = [str(val) if (val <= 10 or i % 2 != 0) else '' for i, val in enumerate(unique_values)]\n",
    "\n",
    "# Plot the grouped bar plot\n",
    "grouped_cols_1.plot(kind='bar', stacked=True)\n",
    "\n",
    "# Add labels and title\n",
    "plt.xlabel('Number of Outpatient Visits in preceding Year')\n",
    "plt.ylabel('Count')\n",
    "plt.title('Readmission Status by Number of Outpatient Visits')\n",
    "\n",
    "# # Set the x-axis tick locations and labels\n",
    "x_ticks, x_labels = plt.xticks()\n",
    "# # Filter out every other value after 10 from the x-axis\n",
    "# x_ticks_filtered = [str(tick) if int(tick) <= 10 or i % 2 == 0 else '' for i, tick in enumerate(x_ticks)]\n",
    "# plt.xticks(x_ticks, x_ticks_filtered, rotation=0, fontsize=8)\n",
    "# x_ticks_filtered = [str(int(tick)) if (int(tick) != 0 and int(tick) <= 10) or i % 2 == 0 else '' for i, tick in enumerate(x_ticks)]\n",
    "# plt.xticks(x_ticks, x_ticks_filtered, rotation=0, fontsize=8)\n",
    "# Set the x-axis tick locations and labels\n",
    "# plt.xticks(unique_values, filtered_ticks, rotation=0, fontsize=8)\n",
    "plt.xticks(rotation=45, fontsize=6)\n",
    "\n",
    "# Display the plot\n",
    "plt.show()\n",
    "plt.clf()\n",
    "\n",
    "#-------------------------------------------\n",
    "# Plot the grouped bar plot\n",
    "grouped_cols_2.plot(kind='bar', stacked=True)\n",
    "\n",
    "# Add labels and title\n",
    "plt.xlabel('Number of Emergency Visits in preceding Year')\n",
    "plt.ylabel('Count')\n",
    "plt.title('Readmission Status by Number of Emergency Visits')\n",
    "\n",
    "# # Set the x-axis tick locations and labels\n",
    "# x_ticks, x_labels = plt.xticks()\n",
    "# # Filter out every other value after 10 from the x-axis\n",
    "# x_ticks_filtered = [str(tick) if int(tick) <= 10 or i % 2 == 0 else '' for i, tick in enumerate(x_ticks)]\n",
    "# plt.xticks(x_ticks, x_ticks_filtered, rotation=0, fontsize=8)\n",
    "plt.xticks(rotation=45, fontsize=8)\n",
    "\n",
    "# Display the plot\n",
    "plt.show()\n",
    "plt.clf()\n",
    "\n",
    "#-------------------------------------------\n",
    "# Plot the grouped bar plot\n",
    "grouped_cols_3.plot(kind='bar', stacked=True)\n",
    "\n",
    "# Add labels and title\n",
    "plt.xlabel('Number of Inpatient Visits in preceding Year')\n",
    "plt.ylabel('Count')\n",
    "plt.title('Readmission Status by Number of Inpatient Visits')\n",
    "\n",
    "# # Set the x-axis tick locations and labels\n",
    "# x_ticks, x_labels = plt.xticks()\n",
    "# # Filter out every other value after 10 from the x-axis\n",
    "# x_ticks_filtered = [str(tick) if int(tick) <= 10 or i % 2 == 0 else '' for i, tick in enumerate(x_ticks)]\n",
    "# plt.xticks(x_ticks, x_ticks_filtered, rotation=0, fontsize=8)\n",
    "plt.xticks(rotation=45)\n",
    "\n",
    "# Display the plot\n",
    "plt.show()"
   ]
  },
  {
   "cell_type": "markdown",
   "metadata": {},
   "source": [
    "Here are multiple plots about various types of visits in the preceding year concerning readmittance status. He appears most people have `0` **Outpatient**, **Emergency**, and **Inpatient** visits the year prior before they are admitted. Let's take a closer look at the smaller values."
   ]
  },
  {
   "cell_type": "code",
   "execution_count": null,
   "metadata": {},
   "outputs": [],
   "source": [
    "# Setup data for plotting\n",
    "grouped_cols_1 = df.groupby(['number_outpatient', 'readmitted']).size().unstack()\n",
    "grouped_cols_2 = df.groupby(['number_emergency', 'readmitted']).size().unstack()\n",
    "grouped_cols_3 = df.groupby(['number_inpatient', 'readmitted']).size().unstack()\n",
    "\n",
    "# Plot the grouped bar plot\n",
    "grouped_cols_1.plot(kind='bar', stacked=True)\n",
    "\n",
    "# Add labels and title\n",
    "plt.xlabel('Number of Outpatient Visits in preceding Year')\n",
    "plt.ylabel('Count')\n",
    "plt.title('Readmission Status by Number of Outpatient Visits')\n",
    "\n",
    "# Set the x-axis ticks\n",
    "plt.xticks(rotation=45, fontsize=8)\n",
    "\n",
    "# Set the x-axis limits to exclude 0\n",
    "plt.xlim(xmin=.5)\n",
    "\n",
    "# Set the y-axis limits\n",
    "plt.ylim(ymax=9000)\n",
    "\n",
    "# Display the plot\n",
    "plt.show()\n",
    "plt.clf()\n",
    "\n",
    "#-------------------------------------------\n",
    "# Plot the grouped bar plot\n",
    "grouped_cols_2.plot(kind='bar', stacked=True)\n",
    "\n",
    "# Add labels and title\n",
    "plt.xlabel('Number of Emergency Visits in preceding Year')\n",
    "plt.ylabel('Count')\n",
    "plt.title('Readmission Status by Number of Emergency Visits')\n",
    "\n",
    "# Set the x-axis ticks\n",
    "plt.xticks(rotation=45, fontsize=8)\n",
    "\n",
    "# Set the x-axis limits to exclude 0\n",
    "plt.xlim(xmin=.5)\n",
    "\n",
    "# Set the y-axis limits\n",
    "plt.ylim(ymax=8000)\n",
    "\n",
    "# Display the plot\n",
    "plt.show()\n",
    "plt.clf()\n",
    "\n",
    "#-------------------------------------------\n",
    "# Plot the grouped bar plot\n",
    "grouped_cols_3.plot(kind='bar', stacked=True)\n",
    "\n",
    "# Add labels and title\n",
    "plt.xlabel('Number of Inpatient Visits in preceding Year')\n",
    "plt.ylabel('Count')\n",
    "plt.title('Readmission Status by Number of Inpatient Visits')\n",
    "\n",
    "# Set the x-axis ticks\n",
    "plt.xticks(rotation=45, fontsize=8)\n",
    "\n",
    "# Set the x-axis limits to exclude 0\n",
    "plt.xlim(xmin=.5)\n",
    "\n",
    "# Set the y-axis limits\n",
    "plt.ylim(ymax=20000)\n",
    "\n",
    "# Display the plot\n",
    "plt.show()"
   ]
  },
  {
   "cell_type": "markdown",
   "metadata": {},
   "source": [
    "We took out the value `0` in each plot to try to get a better look at the smaller values, but as we can see the values are still sharply declining. "
   ]
  },
  {
   "cell_type": "markdown",
   "metadata": {},
   "source": [
    "#### Number of Diagnoses and Readmittance"
   ]
  },
  {
   "cell_type": "code",
   "execution_count": null,
   "metadata": {},
   "outputs": [],
   "source": [
    "# Setup data for plotting\n",
    "grouped_cols = df.groupby(['number_diagnoses', 'readmitted']).size().unstack()\n",
    "\n",
    "# Plot the grouped bar plot\n",
    "grouped_cols.plot(kind='bar', stacked=False)\n",
    "\n",
    "# Add labels and title\n",
    "plt.xlabel('Number of Diagnoses')\n",
    "plt.ylabel('Count')\n",
    "plt.title('Readmission Status by Number of Diagnoses')\n",
    "\n",
    "# Set the x-axis ticks\n",
    "plt.xticks(rotation=0)\n",
    "\n",
    "# Display the plot\n",
    "plt.show()"
   ]
  },
  {
   "cell_type": "code",
   "execution_count": null,
   "metadata": {},
   "outputs": [],
   "source": [
    "# Check amount of patients that may be hard to see above\n",
    "df['number_diagnoses'].value_counts()"
   ]
  },
  {
   "cell_type": "markdown",
   "metadata": {},
   "source": [
    "Looking above, we see most people admitted were given `9` diagnoses. Very rarely were people given more than `9` diagnoses (~100 compared to ~101000 patients). Looking at the values `6`-`9`, it appears the readmission after 30 days is higher proportionally compared to `5` and lower. Let's try to take a closer look."
   ]
  },
  {
   "cell_type": "code",
   "execution_count": null,
   "metadata": {},
   "outputs": [],
   "source": [
    "# Setup data for plotting\n",
    "grouped_cols = df.groupby(['number_diagnoses', 'readmitted']).size().unstack()\n",
    "\n",
    "# Plot the grouped bar plot\n",
    "grouped_cols.plot(kind='bar', stacked=False)\n",
    "\n",
    "# Add labels and title\n",
    "plt.xlabel('Number of Diagnoses')\n",
    "plt.ylabel('Count')\n",
    "plt.title('Readmission Status by Number of Diagnoses')\n",
    "\n",
    "# Set the x-axis ticks\n",
    "plt.xticks(rotation=0)\n",
    "\n",
    "# Set the x-axis limits to exclude 0\n",
    "plt.xlim(xmax=7.5)\n",
    "\n",
    "# Set the y-axis limits\n",
    "plt.ylim(ymax=9000)\n",
    "\n",
    "# Display the plot\n",
    "plt.show()"
   ]
  },
  {
   "cell_type": "markdown",
   "metadata": {},
   "source": [
    "It does seem that readmittance after 30 days increases proportionally after more than `5` diagnoses have been entered into the system for the admitted patient. We can try to look at the codes for the diagnoses entered to get more of an idea what's going on."
   ]
  },
  {
   "cell_type": "markdown",
   "metadata": {},
   "source": [
    "#### Diagnoses Code and Readmittance"
   ]
  },
  {
   "cell_type": "code",
   "execution_count": null,
   "metadata": {},
   "outputs": [],
   "source": [
    "diag_1_counts = df['diag_1'].value_counts()\n",
    "print(diag_1_counts.head(20))"
   ]
  },
  {
   "cell_type": "code",
   "execution_count": null,
   "metadata": {},
   "outputs": [],
   "source": [
    "df['diag_1'].nunique()"
   ]
  },
  {
   "cell_type": "code",
   "execution_count": null,
   "metadata": {},
   "outputs": [],
   "source": [
    "df_sorted = df.sort_values('diag_1')\n",
    "df_sorted.diag_1.unique()"
   ]
  },
  {
   "cell_type": "code",
   "execution_count": null,
   "metadata": {},
   "outputs": [],
   "source": [
    "# Setup data for plotting\n",
    "grouped_cols = df.groupby(['diag_1', 'readmitted']).size().unstack()\n",
    "\n",
    "# Plot the grouped bar plot\n",
    "grouped_cols.plot(kind='bar', stacked=True)\n",
    "\n",
    "# Add labels and title\n",
    "plt.xlabel('Primary Diagnosis ICD9 Number')\n",
    "plt.ylabel('Count')\n",
    "plt.title('Readmission Status by Primary Diagnosis ICD9 Number')\n",
    "\n",
    "# Set the x-axis ticks\n",
    "# x_ticks = sorted([428, 414, 786, 410, 486, 427, 491, 715, 682, 434, 780, 996, 276, 38])\n",
    "x_ticks = range(0, 900, 100)\n",
    "plt.xticks(x_ticks, rotation=45)\n",
    "\n",
    "# Set the y-axis limits\n",
    "plt.ylim(ymax=4500)\n",
    "\n",
    "# Display the plot\n",
    "plt.show()"
   ]
  },
  {
   "cell_type": "markdown",
   "metadata": {},
   "source": [
    "There's a bit to go through here. As a reminder, `diag_1` contains the primary diagnosis (coded as first three digits of [ICD9](https://www.cdc.gov/nchs/icd/icd9cm.htm)). There are `717` unique values in this dataset. Also, one has to keep in mind that this data was collected from 1999-2008 which was met with various revisions of the **ICD9**, which means revisions of the number codes as well. It's hard to say if the primary diagnosis with affect readmittance, but when we get to the feature selection phase, we can try to ascertain the effectiveness of diagnoses as a feature using machine learning."
   ]
  },
  {
   "cell_type": "markdown",
   "metadata": {},
   "source": [
    "#### Max Glucose Serum Result and Readmittance"
   ]
  },
  {
   "cell_type": "code",
   "execution_count": null,
   "metadata": {},
   "outputs": [],
   "source": [
    "# Setup data for plotting\n",
    "grouped_cols = df.groupby(['max_glu_serum', 'readmitted']).size().unstack()\n",
    "\n",
    "# Plot the grouped bar plot\n",
    "grouped_cols.plot(kind='bar', stacked=False)\n",
    "\n",
    "# Add labels and title\n",
    "plt.xlabel('Maximum Glucose Serum Results')\n",
    "plt.ylabel('Count')\n",
    "plt.title('Readmission Status by Maximum Glucose Serum')\n",
    "\n",
    "# Set the x-axis ticks\n",
    "# x_ticks = range(0, 300, 50)\n",
    "plt.xticks(rotation=45)\n",
    "\n",
    "# Display the plot\n",
    "plt.show()"
   ]
  },
  {
   "cell_type": "markdown",
   "metadata": {},
   "source": [
    "This plot is showing max glucose serum results (for `>200` and `>300`, the assumed units are (mg/dL)) and readmittance status. It seems most people were not given a glucose test when they were admitted. Let's take a closer look at the other values below."
   ]
  },
  {
   "cell_type": "code",
   "execution_count": null,
   "metadata": {},
   "outputs": [],
   "source": [
    "# Filter out 'None' in 'max_glu_serum'\n",
    "df_filtered = df[df['max_glu_serum'] != 'None']\n",
    "\n",
    "# Setup data for plotting\n",
    "grouped_cols = df_filtered.groupby(['max_glu_serum', 'readmitted']).size().unstack()\n",
    "\n",
    "# Plot the grouped bar plot\n",
    "grouped_cols.plot(kind='bar', stacked=False)\n",
    "\n",
    "# Add labels and title\n",
    "plt.xlabel('Maximum Glucose Serum Results')\n",
    "plt.ylabel('Count')\n",
    "plt.title('Readmission Status by Maximum Glucose Serum')\n",
    "\n",
    "# Set the x-axis ticks\n",
    "# x_ticks = range(0, 300, 50)\n",
    "plt.xticks(rotation=45)\n",
    "\n",
    "# Display the plot\n",
    "plt.show()"
   ]
  },
  {
   "cell_type": "markdown",
   "metadata": {},
   "source": [
    "Same graph as before but without the `None` value. It seems the proportion of patients who were readmitted are a bit higher for Max Glucose Serum results above 300 (mg/dL) compared to the other results. "
   ]
  },
  {
   "cell_type": "markdown",
   "metadata": {},
   "source": [
    "#### A1C Result and Readmittance"
   ]
  },
  {
   "cell_type": "code",
   "execution_count": null,
   "metadata": {},
   "outputs": [],
   "source": [
    "# Setup data for plotting\n",
    "grouped_cols = df.groupby(['A1Cresult', 'readmitted']).size().unstack()\n",
    "\n",
    "# Plot the grouped bar plot\n",
    "grouped_cols.plot(kind='bar', stacked=False)\n",
    "\n",
    "# Add labels and title\n",
    "plt.xlabel('A1C Results')\n",
    "plt.ylabel('Count')\n",
    "plt.title('Readmission Status by A1C Results')\n",
    "\n",
    "# Set the x-axis ticks\n",
    "# x_ticks = range(0, 300, 50)\n",
    "plt.xticks(rotation=45)\n",
    "\n",
    "# Display the plot\n",
    "plt.show()"
   ]
  },
  {
   "cell_type": "markdown",
   "metadata": {},
   "source": [
    "Similar to the plot for Max Glucose Serum, most people admitted did not get a A1C test. Let's take a closer look without `None`."
   ]
  },
  {
   "cell_type": "code",
   "execution_count": null,
   "metadata": {},
   "outputs": [],
   "source": [
    "# Filter out 'None' in 'max_glu_serum'\n",
    "df_filtered = df[df['A1Cresult'] != 'None']\n",
    "\n",
    "# Setup data for plotting\n",
    "grouped_cols = df_filtered.groupby(['A1Cresult', 'readmitted']).size().unstack()\n",
    "\n",
    "# Plot the grouped bar plot\n",
    "grouped_cols.plot(kind='bar', stacked=False)\n",
    "\n",
    "# Add labels and title\n",
    "plt.xlabel('A1C Results')\n",
    "plt.ylabel('Count')\n",
    "plt.title('Readmission Status by A1C Results')\n",
    "\n",
    "# Set the x-axis ticks\n",
    "# x_ticks = range(0, 300, 50)\n",
    "plt.xticks(rotation=45)\n",
    "\n",
    "# Display the plot\n",
    "plt.show()"
   ]
  },
  {
   "cell_type": "markdown",
   "metadata": {},
   "source": [
    "Unlike the the Max Glucose Serum results, there is not too much difference in proportions for people who were readmitted and not."
   ]
  },
  {
   "cell_type": "markdown",
   "metadata": {},
   "source": [
    "#### Drug and Readmittance "
   ]
  },
  {
   "cell_type": "markdown",
   "metadata": {},
   "source": [
    "There are 23 different drugs that were used for patients that were admitted due to diabetes. We can take a look at all of them together. \n",
    "\n",
    "As a reminder: \n",
    "- The feature indicates whether the drug was prescribed or there was a change in the dosage.\n",
    "- **up** if the dosage was increased during the encounter\n",
    "- **down** if the dosage was decreased\n",
    "- **steady** if the dosage did not change\n",
    "- **no** if the drug was not prescribed"
   ]
  },
  {
   "cell_type": "code",
   "execution_count": null,
   "metadata": {},
   "outputs": [],
   "source": [
    "def plot_graph(column):\n",
    "    # Setup data for plotting\n",
    "    grouped_cols = df.groupby([column, 'readmitted']).size().unstack()\n",
    "    # Plot the grouped bar plot\n",
    "    grouped_cols.plot(kind='bar', stacked=False)\n",
    "\n",
    "    # Add labels and title\n",
    "    plt.xlabel(column.capitalize() + ' Use')\n",
    "    plt.ylabel('Count')\n",
    "    plt.title('Readmission Status by ' + column.capitalize() + ' Use')\n",
    "\n",
    "    # Set the x-axis ticks\n",
    "    # x_ticks = range(0, 300, 50)\n",
    "    plt.xticks(rotation=45)\n",
    "\n",
    "    # Display the plot\n",
    "    plt.show()\n",
    "    plt.clf()\n",
    "\n",
    "drug_list = ['metformin', 'repaglinide', 'nateglinide', 'chlorpropamide', 'glimepiride', \n",
    "             'acetohexamide', 'glipizide', 'glyburide', 'tolbutamide', 'pioglitazone', \n",
    "             'rosiglitazone', 'acarbose', 'miglitol', 'troglitazone', 'tolazamide', \n",
    "             'examide', 'citoglipton', 'insulin', 'glyburide-metformin', 'glipizide-metformin',\n",
    "             'glimepiride-pioglitazone', 'metformin-rosiglitazone', 'metformin-pioglitazone']\n",
    "\n",
    "for drug in drug_list:\n",
    "    plot_graph(drug)"
   ]
  },
  {
   "cell_type": "markdown",
   "metadata": {},
   "source": [
    "A lot to go through here. Most people were not prescribed drugs during their admittance with `Insulin` being the most common drug used. Like before, we will take a closer look at the low values by removing **No** values. We also removed `examide` and `citoglipton` from the new plots since those drugs were never prescribed."
   ]
  },
  {
   "cell_type": "code",
   "execution_count": null,
   "metadata": {},
   "outputs": [],
   "source": [
    "def plot_graph_2(column):\n",
    "    # Filter out 'No'\n",
    "    df_filtered = df[df[column] != 'No']\n",
    "    # Setup data for plotting\n",
    "    grouped_cols = df_filtered.groupby([column, 'readmitted']).size().unstack()\n",
    "    # Plot the grouped bar plot\n",
    "    grouped_cols.plot(kind='bar', stacked=False)\n",
    "\n",
    "    # Add labels and title\n",
    "    plt.xlabel(column.capitalize() + ' Use')\n",
    "    plt.ylabel('Count')\n",
    "    plt.title('Readmission Status by ' + column.capitalize() + ' Use')\n",
    "\n",
    "    # Set the x-axis ticks\n",
    "    # x_ticks = range(0, 300, 50)\n",
    "    plt.xticks(rotation=45)\n",
    "\n",
    "    # Display the plot\n",
    "    plt.show()\n",
    "    plt.clf()\n",
    "\n",
    "drug_list_2 = ['metformin', 'repaglinide', 'nateglinide', 'chlorpropamide', 'glimepiride', \n",
    "             'acetohexamide', 'glipizide', 'glyburide', 'tolbutamide', 'pioglitazone', \n",
    "             'rosiglitazone', 'acarbose', 'miglitol', 'troglitazone', 'tolazamide', 'insulin',\n",
    "             'glyburide-metformin', 'glipizide-metformin',\n",
    "             'glimepiride-pioglitazone', 'metformin-rosiglitazone', 'metformin-pioglitazone']\n",
    "\n",
    "for drug in drug_list_2:\n",
    "    plot_graph_2(drug)"
   ]
  },
  {
   "cell_type": "markdown",
   "metadata": {},
   "source": [
    "A lot to go through again. Some stuff we can quickly see are features we can exclude from the machine learning model due to lack of data (~1-10 data points). There are others that don't have as much data (~100-1000) and may need additional feature selection techniques to justify keeping them.\n",
    "\n",
    "For `insulin`, it seems whenever dosage was changed **up** or **down** when it was administered, the proportional of readmittance for patients increased. There are a few drugs that show this even with a steady dosage. We will determine the weight of these features later in the feature selection portion."
   ]
  },
  {
   "cell_type": "markdown",
   "metadata": {},
   "source": [
    "#### Change in Diabetic Medication and Readmittance"
   ]
  },
  {
   "cell_type": "code",
   "execution_count": null,
   "metadata": {},
   "outputs": [],
   "source": [
    "# Setup data for plotting\n",
    "grouped_cols = df.groupby(['change', 'readmitted']).size().unstack()\n",
    "\n",
    "# Plot the grouped bar plot\n",
    "grouped_cols.plot(kind='bar', stacked=False)\n",
    "\n",
    "# Add labels and title\n",
    "plt.xlabel('Change in Medication')\n",
    "plt.ylabel('Count')\n",
    "plt.title('Readmission Status by Change in Diabetic Medication')\n",
    "\n",
    "# Set the x-axis ticks\n",
    "plt.xticks(rotation=45)\n",
    "\n",
    "# Display the plot\n",
    "plt.show()"
   ]
  },
  {
   "cell_type": "markdown",
   "metadata": {},
   "source": [
    "This plot shows if admitted patients had a change (`Ch`) to their diabetic medication or not (`No`). It looks like the proportion of readmittance is slightly different when patients get a change to their medication."
   ]
  },
  {
   "cell_type": "markdown",
   "metadata": {},
   "source": [
    "#### Diabetes Medication and Readmittance"
   ]
  },
  {
   "cell_type": "code",
   "execution_count": null,
   "metadata": {},
   "outputs": [],
   "source": [
    "# Setup data for plotting\n",
    "grouped_cols = df.groupby(['diabetesMed', 'readmitted']).size().unstack()\n",
    "\n",
    "# Plot the grouped bar plot\n",
    "grouped_cols.plot(kind='bar', stacked=False)\n",
    "\n",
    "# Add labels and title\n",
    "plt.xlabel('Diabetic Medication Prescribed')\n",
    "plt.ylabel('Count')\n",
    "plt.title('Readmission Status by if a Diabetic Medication was Prescribed')\n",
    "\n",
    "# Set the x-axis ticks\n",
    "plt.xticks(rotation=45)\n",
    "\n",
    "# Display the plot\n",
    "plt.show()"
   ]
  },
  {
   "cell_type": "markdown",
   "metadata": {},
   "source": [
    "The title for the above plot is pretty explanatory. More people were prescribed diabetic medication when then not, which seems reasonable for a diabetic encounter. The proportion of readmittance seems slightly higher for patients that were prescribed diabetic medication."
   ]
  },
  {
   "cell_type": "markdown",
   "metadata": {},
   "source": [
    "## Feature Selection\n",
    "\n",
    "There are 48 features, not including `readmittance`, to be selected from. We are going to go through and determine which ones are useful for the model."
   ]
  },
  {
   "cell_type": "code",
   "execution_count": null,
   "metadata": {},
   "outputs": [],
   "source": [
    "removed_features = ['encounter_id', 'patient_nbr', 'weight', 'examide', 'citoglipton', \n",
    "                    'acetohexamide', 'tolbutamide', 'miglitol', 'troglitazone', 'tolazamide', \n",
    "                    'glipizide-metformin', 'glimepiride-pioglitazone', \n",
    "                    'metformin-rosiglitazone', 'metformin-pioglitazone']\n",
    "\n",
    "not_sure_features = ['admission_type_id', 'discharge_disposition_id', 'admission_source_id', \n",
    "                     'payer_code', 'medical_specialty', 'diag_1', 'diag_2', 'diag_3']"
   ]
  },
  {
   "cell_type": "markdown",
   "metadata": {},
   "source": [
    "Let's start with the `removed_features` list. We can first take out **encounter_id** and **patient_nbr** since these are unique for the patients. The rest of the features in `removed_features` list are due to low amount of data. During the data exploration section, some of the features we explored had low amounts of data points for certain values (even as low as **1**). We can safely remove these since they will offer little insight on `readmittance`.\n",
    "\n",
    "Looking at `not_sure_features` list, some of these features have large amount of unique values (~700+). Another thing to consider is domain knowledge on these features. For example, `admission_type_id` has distinct values of **emergency** and **urgent**. Let's also look at a graph of it."
   ]
  },
  {
   "cell_type": "code",
   "execution_count": null,
   "metadata": {},
   "outputs": [],
   "source": [
    "# Setup data for plotting\n",
    "grouped_cols = df.groupby(['admission_type_id', 'readmitted']).size().unstack()\n",
    "\n",
    "# Plot the grouped bar plot\n",
    "grouped_cols.plot(kind='bar', stacked=False)\n",
    "\n",
    "# Add labels and title\n",
    "plt.xlabel('Admission Type ID')\n",
    "plt.ylabel('Count')\n",
    "plt.title('Readmission Status by Admission Type ID')\n",
    "\n",
    "# Set the x-axis ticks\n",
    "plt.xticks(rotation=45)\n",
    "\n",
    "# Display the plot\n",
    "plt.show()"
   ]
  },
  {
   "cell_type": "markdown",
   "metadata": {},
   "source": [
    "As a reminder, these are the **admission_type_id** identifiers.\n",
    "\n",
    "**admission_type_id**:\n",
    "  - 1: Emergency\n",
    "  - 2: Urgent\n",
    "  - 3: Elective\n",
    "  - 4: Newborn\n",
    "  - 5: Not Available\n",
    "  - 6: NULL\n",
    "  - 7: Trauma Center\n",
    "  - 8: Not Mapped"
   ]
  },
  {
   "cell_type": "markdown",
   "metadata": {},
   "source": [
    "It's hard to say if these labels would affect `readmittance` considering the nature of the data. This problem occurs in some of the other features in `not_sure_features`. Will these features significantly affect `readmittance`? `discharge_disposition_id` has a value **expired** that would change readmittance status, but would the way you pay (`payer_code`) or the department that treated you (`medical_specialty`) change the outcome? Here is where machine learning will help."
   ]
  },
  {
   "cell_type": "markdown",
   "metadata": {},
   "source": [
    "### Feature Elimination\n",
    "\n",
    "There are high cardinality categorical features (features with a lot of unique values) and a mix of integers and categorical. We need to do a little more preprocessing in order to fit a model."
   ]
  },
  {
   "cell_type": "code",
   "execution_count": null,
   "metadata": {},
   "outputs": [],
   "source": [
    "print(df.columns)"
   ]
  },
  {
   "cell_type": "markdown",
   "metadata": {},
   "source": [
    "`diag_1`, `diag_2`, and `diag_3` have a mix of integers and strings that mess with the standardization for the machine learning model. Let's see what we can do."
   ]
  },
  {
   "cell_type": "code",
   "execution_count": null,
   "metadata": {},
   "outputs": [],
   "source": [
    "diag_1 = df.diag_1.unique()\n",
    "print(sorted(diag_1))"
   ]
  },
  {
   "cell_type": "code",
   "execution_count": null,
   "metadata": {},
   "outputs": [],
   "source": [
    "diag_2 = df.diag_2.unique()\n",
    "print(sorted(diag_2))"
   ]
  },
  {
   "cell_type": "code",
   "execution_count": null,
   "metadata": {},
   "outputs": [],
   "source": [
    "diag_3 = df.diag_3.unique()\n",
    "print(sorted(diag_3))"
   ]
  },
  {
   "cell_type": "markdown",
   "metadata": {},
   "source": [
    "As a reminder, `diag_1`, `diag_2`, and `diag_3` are diagnoses coded as first three digits of **ICD9**. Because of the nature of the values for `diag_1`, `diag_2`, and `diag_3`, the best way to setup these features is to make sure all values are **category** type."
   ]
  },
  {
   "cell_type": "code",
   "execution_count": null,
   "metadata": {},
   "outputs": [],
   "source": [
    "# Fix mixed column data\n",
    "df['diag_1'] = df['diag_1'].astype('category')\n",
    "df['diag_2'] = df['diag_2'].astype('category')\n",
    "df['diag_3'] = df['diag_3'].astype('category')"
   ]
  },
  {
   "cell_type": "markdown",
   "metadata": {},
   "source": [
    "#### Chi-Squared Tests\n",
    "\n",
    "There are a few features that might not add to the model, and high cardinality (a large number of unique values) features will prevent using certain models (for example random forest). We also have a large number of features (~35) to test the model on, and certain feature selection methods such as Recursive Feature Selection (RFE) would be computationally intensive.\n",
    "\n",
    "We are going to use **chi2_contingency** from **scipy** to test some features before model creation.\n",
    "\n",
    "For chi-squared tests, there are two values to look at; **chi-square statistic** and **p-value**. \n",
    "\n",
    "1. **Chi-square statistic**: This statistic measures the magnitude of the difference between the observed and expected frequencies in the contingency table. Larger values of the chi-square statistic indicate a stronger association between the target variable and the categorical feature. However, the magnitude alone does not determine the significance of the association.\n",
    "   \n",
    "2. **P-value**: The p-value represents the probability of observing the data given that there is no association between the target and the categorical feature. A small p-value (typically less than 0.05) suggests that the association is statistically significant."
   ]
  },
  {
   "cell_type": "markdown",
   "metadata": {},
   "source": [
    "##### `diag_1`"
   ]
  },
  {
   "cell_type": "code",
   "execution_count": null,
   "metadata": {},
   "outputs": [],
   "source": [
    "import scipy.stats as stats\n",
    "\n",
    "# Create a contingency table\n",
    "contingency_table = pd.crosstab(df['readmitted'], df['diag_1'])\n",
    "\n",
    "# Perform the chi-square test\n",
    "chi2, p, _, _ = stats.chi2_contingency(contingency_table)\n",
    "\n",
    "# Print the results\n",
    "print(\"Chi-square statistic:\", chi2)\n",
    "print(\"P-value:\", p)"
   ]
  },
  {
   "cell_type": "markdown",
   "metadata": {},
   "source": [
    "##### `diag_2`"
   ]
  },
  {
   "cell_type": "code",
   "execution_count": null,
   "metadata": {},
   "outputs": [],
   "source": [
    "# Create a contingency table\n",
    "contingency_table = pd.crosstab(df['readmitted'], df['diag_2'])\n",
    "\n",
    "# Perform the chi-square test\n",
    "chi2, p, _, _ = stats.chi2_contingency(contingency_table)\n",
    "\n",
    "# Print the results\n",
    "print(\"Chi-square statistic:\", chi2)\n",
    "print(\"P-value:\", p)"
   ]
  },
  {
   "cell_type": "markdown",
   "metadata": {},
   "source": [
    "##### `diag_3`"
   ]
  },
  {
   "cell_type": "code",
   "execution_count": null,
   "metadata": {},
   "outputs": [],
   "source": [
    "# Create a contingency table\n",
    "contingency_table = pd.crosstab(df['readmitted'], df['diag_3'])\n",
    "\n",
    "# Perform the chi-square test\n",
    "chi2, p, _, _ = stats.chi2_contingency(contingency_table)\n",
    "\n",
    "# Print the results\n",
    "print(\"Chi-square statistic:\", chi2)\n",
    "print(\"P-value:\", p)"
   ]
  },
  {
   "cell_type": "markdown",
   "metadata": {},
   "source": [
    "##### `payer_code`"
   ]
  },
  {
   "cell_type": "code",
   "execution_count": null,
   "metadata": {},
   "outputs": [],
   "source": [
    "# Create a contingency table\n",
    "contingency_table = pd.crosstab(df['readmitted'], df['payer_code'])\n",
    "\n",
    "# Perform the chi-square test\n",
    "chi2, p, _, _ = stats.chi2_contingency(contingency_table)\n",
    "\n",
    "# Print the results\n",
    "print(\"Chi-square statistic:\", chi2)\n",
    "print(\"P-value:\", p)"
   ]
  },
  {
   "cell_type": "markdown",
   "metadata": {},
   "source": [
    "##### `medical_specialty`"
   ]
  },
  {
   "cell_type": "code",
   "execution_count": null,
   "metadata": {},
   "outputs": [],
   "source": [
    "# Create a contingency table\n",
    "contingency_table = pd.crosstab(df['readmitted'], df['medical_specialty'])\n",
    "\n",
    "# Perform the chi-square test\n",
    "chi2, p, _, _ = stats.chi2_contingency(contingency_table)\n",
    "\n",
    "# Print the results\n",
    "print(\"Chi-square statistic:\", chi2)\n",
    "print(\"P-value:\", p)"
   ]
  },
  {
   "cell_type": "markdown",
   "metadata": {},
   "source": [
    "##### `max_glu_serum`"
   ]
  },
  {
   "cell_type": "code",
   "execution_count": null,
   "metadata": {},
   "outputs": [],
   "source": [
    "# Create a contingency table\n",
    "contingency_table = pd.crosstab(df['readmitted'], df['max_glu_serum'])\n",
    "\n",
    "# Perform the chi-square test\n",
    "chi2, p, _, _ = stats.chi2_contingency(contingency_table)\n",
    "\n",
    "# Print the results\n",
    "print(\"Chi-square statistic:\", chi2)\n",
    "print(\"P-value:\", p)"
   ]
  },
  {
   "cell_type": "markdown",
   "metadata": {},
   "source": [
    "##### `weight`"
   ]
  },
  {
   "cell_type": "code",
   "execution_count": null,
   "metadata": {},
   "outputs": [],
   "source": [
    "# Create a contingency table\n",
    "contingency_table = pd.crosstab(df['readmitted'], df['weight'])\n",
    "\n",
    "# Perform the chi-square test\n",
    "chi2, p, _, _ = stats.chi2_contingency(contingency_table)\n",
    "\n",
    "# Print the results\n",
    "print(\"Chi-square statistic:\", chi2)\n",
    "print(\"P-value:\", p)"
   ]
  },
  {
   "cell_type": "markdown",
   "metadata": {},
   "source": [
    "##### `examide`"
   ]
  },
  {
   "cell_type": "code",
   "execution_count": null,
   "metadata": {},
   "outputs": [],
   "source": [
    "# Create a contingency table\n",
    "contingency_table = pd.crosstab(df['readmitted'], df['examide'])\n",
    "\n",
    "# Perform the chi-square test\n",
    "chi2, p, _, _ = stats.chi2_contingency(contingency_table)\n",
    "\n",
    "# Print the results\n",
    "print(\"Chi-square statistic:\", chi2)\n",
    "print(\"P-value:\", p)"
   ]
  },
  {
   "cell_type": "markdown",
   "metadata": {},
   "source": [
    "Quick summary of above tests:\n",
    "\n",
    "- **diag_1**: statistically significant with p < 0.05\n",
    "- **diag_2**: statistically significant with p < 0.05\n",
    "- **diag_3**: statistically significant with p < 0.05\n",
    "- **payer_code**: statistically significant with p < 0.05\n",
    "- **medical_specialty**: statistically significant with p < 0.05\n",
    "- **max_glu_serum**: statistically significant with p < 0.05\n",
    "- **weight**: statistically significant with p < 0.05\n",
    "- **examide**: statistically insignificant with p > 0.05\n",
    "\n",
    "Earlier in the data exploration section, **weight** showed that for most admittance, weight wasn't measured. Due to lack of data, it was initially was to be taken out of the model. Since the chi-squared test showed that it's significant, we'll have to test more it in the upcoming models."
   ]
  },
  {
   "cell_type": "markdown",
   "metadata": {},
   "source": [
    "#### Initial Features\n",
    "\n",
    "Here we setup the initial features of the model. The **removed_features** list consist of features that are not informative or with little data. Later on, this list may get expanded based off model performance."
   ]
  },
  {
   "cell_type": "code",
   "execution_count": null,
   "metadata": {},
   "outputs": [],
   "source": [
    "removed_features = ['encounter_id', 'patient_nbr', 'examide', 'citoglipton', \n",
    "                    'acetohexamide', 'tolbutamide', 'miglitol', 'troglitazone', 'tolazamide', \n",
    "                    'glipizide-metformin', 'glimepiride-pioglitazone', \n",
    "                    'metformin-rosiglitazone', 'metformin-pioglitazone']\n",
    "\n",
    "cols = ['race', 'gender', 'age', 'weight', 'admission_type_id', 'discharge_disposition_id', \n",
    "        'admission_source_id', 'time_in_hospital', 'payer_code', 'medical_specialty',\n",
    "        'num_lab_procedures', 'num_procedures', 'num_medications', 'number_outpatient',\n",
    "        'number_emergency', 'number_inpatient', 'number_diagnoses', \n",
    "        'max_glu_serum', 'A1Cresult', 'metformin', 'repaglinide', 'nateglinide', 'chlorpropamide',\n",
    "        'glimepiride', 'glipizide', 'glyburide', 'pioglitazone', 'rosiglitazone', \n",
    "        'acarbose', 'insulin', 'glyburide-metformin', 'change', 'diabetesMed', \n",
    "        'diag_1', 'diag_2', 'diag_3', 'readmitted']\n",
    "\n",
    "print('Amount of initial features:', len(cols))\n",
    "\n",
    "# Separate target variable from features\n",
    "feature_df = df[cols].dropna()\n",
    "feature_df.shape\n",
    "\n",
    "# target = df['readmitted']\n",
    "\n",
    "print(feature_df.columns)"
   ]
  },
  {
   "cell_type": "markdown",
   "metadata": {},
   "source": [
    "#### StandardScalar and One-Hot Encoding\n",
    "\n",
    "When dealing with a mix of integer and categorical columns, it's important to preprocess the data appropriately before applying machine learning algorithms like k-Nearest Neighbors (k-NN).\n",
    "\n",
    "1. Identify the numeric and categorical columns in the dataset.\n",
    "2. Standardize the numeric columns using StandardScaler to have a mean of 0 and a standard deviation of 1. This ensures that numeric features are on a similar scale, which is important for distance-based algorithms like k-NN.\n",
    "3. Encode the categorical columns using techniques such as one-hot encoding or label encoding, depending on the nature of the categorical data. One-hot encoding is generally preferred for nominal categorical data, while label encoding can be used for ordinal categorical data."
   ]
  },
  {
   "cell_type": "code",
   "execution_count": null,
   "metadata": {},
   "outputs": [],
   "source": [
    "# Identify numeric and categorical columns\n",
    "numeric_features = ['time_in_hospital', 'num_lab_procedures', 'num_procedures', 'num_medications',\n",
    "                    'number_outpatient', 'number_emergency', 'number_inpatient', 'number_diagnoses']\n",
    "numeric_features_df = feature_df[numeric_features]\n",
    "categorical_features = list(set(cols) - set(numeric_features))\n",
    "\n",
    "print(numeric_features)\n",
    "print(categorical_features)"
   ]
  },
  {
   "cell_type": "markdown",
   "metadata": {},
   "source": [
    "Below we use **StandardScaler()** for numerical features and **get_dummies()** for categorical features."
   ]
  },
  {
   "cell_type": "code",
   "execution_count": null,
   "metadata": {},
   "outputs": [],
   "source": [
    "from sklearn.preprocessing import StandardScaler\n",
    "\n",
    "# Create scaler for numerical columns\n",
    "sc = StandardScaler()\n",
    "\n",
    "# update the cols with their normalized values\n",
    "feature_df[numeric_features] = sc.fit_transform(feature_df[numeric_features])\n",
    "\n",
    "# convert string variable to One Hot Encoding\n",
    "for col in categorical_features:\n",
    "    if col != 'readmitted':\n",
    "        feature_df = pd.get_dummies(feature_df, columns=[col], prefix = [col])"
   ]
  },
  {
   "cell_type": "markdown",
   "metadata": {},
   "source": [
    "Print out features to check if scaling worked correctly."
   ]
  },
  {
   "cell_type": "code",
   "execution_count": null,
   "metadata": {},
   "outputs": [],
   "source": [
    "print(feature_df.head())"
   ]
  },
  {
   "cell_type": "code",
   "execution_count": null,
   "metadata": {},
   "outputs": [],
   "source": [
    "print(feature_df['readmitted'].head())"
   ]
  },
  {
   "cell_type": "code",
   "execution_count": null,
   "metadata": {},
   "outputs": [],
   "source": [
    "print(feature_df[numeric_features].head())"
   ]
  },
  {
   "cell_type": "markdown",
   "metadata": {},
   "source": [
    "#### Setup Target and Split Data\n",
    "\n",
    "Our target is `readmitted`. The data is split 80/20."
   ]
  },
  {
   "cell_type": "code",
   "execution_count": null,
   "metadata": {},
   "outputs": [],
   "source": [
    "#y is the target column, X has the rest\n",
    "y = feature_df['readmitted']\n",
    "X = feature_df.drop(columns=['readmitted'])\n",
    "\n",
    "#Split the data into chunks\n",
    "from sklearn.model_selection import train_test_split\n",
    "X_train, X_test, y_train, y_test = train_test_split(X, y, test_size=.2, random_state = 13)\n",
    "\n",
    "#turn in to 1d arrays\n",
    "y_train = y_train.to_numpy().ravel()\n",
    "y_test = y_test.to_numpy().ravel()"
   ]
  },
  {
   "cell_type": "markdown",
   "metadata": {},
   "source": [
    "#### K-Nearest Neighbors\n",
    "\n",
    "The first model is `KNeighborsClassifier`. The default value for `n_neighbors` is 5, which was kept."
   ]
  },
  {
   "cell_type": "code",
   "execution_count": null,
   "metadata": {},
   "outputs": [],
   "source": [
    "from sklearn.neighbors import KNeighborsClassifier\n",
    "\n",
    "knn = KNeighborsClassifier(n_neighbors=5)\n",
    "\n",
    "# Fit the k-NN classifier on the training data\n",
    "knn.fit(X_train, y_train)\n",
    "\n",
    "# Make predictions on the test data\n",
    "y_pred = knn.predict(X_test)"
   ]
  },
  {
   "cell_type": "code",
   "execution_count": null,
   "metadata": {},
   "outputs": [],
   "source": [
    "import warnings\n",
    "warnings.filterwarnings(\"ignore\", category=FutureWarning)"
   ]
  },
  {
   "cell_type": "code",
   "execution_count": null,
   "metadata": {},
   "outputs": [],
   "source": [
    "from sklearn.metrics import accuracy_score\n",
    "# Calculate the accuracy of the model\n",
    "accuracy = accuracy_score(y_test, y_pred)\n",
    "print(\"Accuracy:\", accuracy)"
   ]
  },
  {
   "cell_type": "markdown",
   "metadata": {},
   "source": [
    "The current model prediction is 51%. Next, we can remove features to see how the model accuracy changes. Let's create a function that can do that."
   ]
  },
  {
   "cell_type": "code",
   "execution_count": null,
   "metadata": {},
   "outputs": [],
   "source": [
    "new_removed_features = []\n",
    "\n",
    "new_cols = ['race', 'gender', 'age', 'weight', 'admission_type_id', 'discharge_disposition_id', \n",
    "        'admission_source_id', 'time_in_hospital', 'payer_code', 'medical_specialty',\n",
    "        'num_lab_procedures', 'num_procedures', 'num_medications', 'number_outpatient',\n",
    "        'number_emergency', 'number_inpatient', 'number_diagnoses', \n",
    "        'max_glu_serum', 'A1Cresult', 'metformin', 'repaglinide', 'nateglinide', 'chlorpropamide',\n",
    "        'glimepiride', 'glipizide', 'glyburide', 'pioglitazone', 'rosiglitazone', \n",
    "        'acarbose', 'insulin', 'glyburide-metformin', 'change', 'diabetesMed', \n",
    "        'diag_1', 'diag_2', 'diag_3', 'readmitted']\n",
    "\n",
    "def model_creator(features):\n",
    "    # Separate target variable from features\n",
    "    new_df = df[features].dropna()\n",
    "    new_df.shape\n",
    "    \n",
    "    # Identify numeric and categorical columns\n",
    "    numeric_features = ['time_in_hospital', 'num_lab_procedures', 'num_procedures', 'num_medications',\n",
    "                    'number_outpatient', 'number_emergency', 'number_inpatient', 'number_diagnoses']\n",
    "    categorical_features = list(set(features) - set(numeric_features))\n",
    "\n",
    "    # Create scaler for numerical columns\n",
    "    sc = StandardScaler()\n",
    "\n",
    "    # update the cols with their normalized values\n",
    "    new_df[numeric_features] = sc.fit_transform(new_df[numeric_features])\n",
    "\n",
    "    # convert string variable to One Hot Encoding\n",
    "    for col in categorical_features:\n",
    "        if col != 'readmitted':\n",
    "             new_df = pd.get_dummies(new_df, columns=[col], prefix = [col])\n",
    "             \n",
    "    #y is the target column, X has the rest\n",
    "    y = new_df['readmitted']\n",
    "    X = new_df.drop(columns=['readmitted'])\n",
    "    \n",
    "    #Split the data into chunks\n",
    "    X_train, X_test, y_train, y_test = train_test_split(X, y, test_size=.2, random_state = 13)\n",
    "    \n",
    "    #turn in to 1d arrays\n",
    "    y_train = y_train.to_numpy().ravel()\n",
    "    y_test = y_test.to_numpy().ravel()\n",
    "    \n",
    "    # Initialize Classifier \n",
    "    knn = KNeighborsClassifier(n_neighbors=5)\n",
    "    \n",
    "    # Fit the k-NN classifier on the training data\n",
    "    knn.fit(X_train, y_train)\n",
    "    \n",
    "    # Make predictions on the test data\n",
    "    y_pred = knn.predict(X_test)\n",
    "\n",
    "    # Calculate the accuracy of the model\n",
    "    accuracy = accuracy_score(y_test, y_pred)\n",
    "    print(\"Accuracy:\", accuracy)\n",
    "\n",
    "model_creator(new_cols)"
   ]
  },
  {
   "cell_type": "code",
   "execution_count": null,
   "metadata": {},
   "outputs": [],
   "source": [
    "# Create test columns list based off removed features\n",
    "# This works like a custom RFE\n",
    "full_feature_list = ['race', 'gender', 'age', 'weight', 'admission_type_id', 'discharge_disposition_id', \n",
    "        'admission_source_id', 'time_in_hospital', 'payer_code', 'medical_specialty',\n",
    "        'num_lab_procedures', 'num_procedures', 'num_medications', 'number_outpatient',\n",
    "        'number_emergency', 'number_inpatient', 'number_diagnoses', \n",
    "        'max_glu_serum', 'A1Cresult', 'metformin', 'repaglinide', 'nateglinide', 'chlorpropamide',\n",
    "        'glimepiride', 'glipizide', 'glyburide', 'pioglitazone', 'rosiglitazone', \n",
    "        'acarbose', 'insulin', 'glyburide-metformin', 'change', 'diabetesMed', \n",
    "        'diag_1', 'diag_2', 'diag_3', 'readmitted']\n",
    "\n",
    "remove_features = ['payer_code', 'diag_2', 'diag_3', 'chlorpropamide', 'repaglinide']\n",
    "# base accuracy score: 0.51253\n",
    "# base accuracy score: 0.51351\n",
    "\n",
    "test_features = list(set(full_feature_list) - set(remove_features))\n",
    "\n",
    "# Call KNN from model_creator function\n",
    "model_creator(test_features)\n",
    "\n",
    "# Label features tested as either something to keep or remove\n",
    "keep_features = ['weight', 'admission_type_id', 'discharge_disposition_id', 'admission_source_id', \n",
    "                 'medical_specialty', 'acarbose','glyburide-metformin', 'nateglinide', 'glimepiride']\n",
    "bad_features = ['payer_code', 'diag_2', 'diag_3', 'chlorpropamide', 'repaglinide']"
   ]
  },
  {
   "cell_type": "markdown",
   "metadata": {},
   "source": [
    "We removed some features that were detrimental to the model. For `diag_1`, we kept that in instead of `diag_2` and `diag_3`, or vice versa. The reason has to with redundant information. The model performs well with at least one of these three features, but not so if you use all three and none of them. This also *reduced* the model runtime by **50%**.\n",
    "\n",
    "Since we skimmed the features a bit manually, it's time to implement a robust feature selection method."
   ]
  },
  {
   "cell_type": "markdown",
   "metadata": {},
   "source": [
    "#### RFE (Recursive Feature Selection)\n",
    "We setup the **RFE** similar to what we've done before, but since it can be resource intensive, we use **joblib** for parallelization. \n",
    "\n",
    "There are two setups below defined as `model_creator_2` and `model_creator_3`.\n",
    "\n",
    "- `model_creator_2`: This setup encodes the categorical values via **OneHotEncoding**, which for **RFE** is not ideal. If you wanted to look at the *weight* of individual values such as 'age_[90-100)' (via **age** column) from the categorical features, this setup could be used.\n",
    "- `model_creator_3`: This setup encodes the categorical values via **OrdinalEncoder()**, which is ideal for **RFE**. This returns a list of the features selected and a list of the accuracies."
   ]
  },
  {
   "cell_type": "code",
   "execution_count": null,
   "metadata": {},
   "outputs": [],
   "source": [
    "from sklearn.model_selection import train_test_split\n",
    "from sklearn.preprocessing import StandardScaler\n",
    "from sklearn.ensemble import RandomForestClassifier\n",
    "from sklearn.feature_selection import RFE\n",
    "from tqdm import tqdm\n",
    "from joblib import Parallel, delayed\n",
    "\n",
    "def model_creator_2(features, n_features_for_rfe, num_features):\n",
    "    # Calculate the number of rows that correspond to about 10 percent of the data\n",
    "    sample_size = len(df) // 10\n",
    "\n",
    "    # Randomly select 10 percent of the rows from the DataFrame\n",
    "    sampled_data = df.sample(n=sample_size, random_state=13)\n",
    "\n",
    "    # Create df with just the features wanted\n",
    "    new_df = sampled_data[features].dropna()\n",
    "    new_df.shape\n",
    "    \n",
    "    # Identify numeric and categorical columns\n",
    "    numeric_features = num_features\n",
    "    categorical_features = list(set(features) - set(numeric_features))\n",
    "\n",
    "    # Create scaler for numerical columns\n",
    "    sc = StandardScaler()\n",
    "\n",
    "    # update the cols with their normalized values\n",
    "    if numeric_features != []:\n",
    "        new_df[numeric_features] = sc.fit_transform(new_df[numeric_features])\n",
    "\n",
    "    # convert string variable to One Hot Encoding\n",
    "    for col in categorical_features:\n",
    "        if col != 'readmitted':\n",
    "             new_df = pd.get_dummies(new_df, columns=[col], prefix = [col])\n",
    "             \n",
    "    # #y is the target column, X has the rest\n",
    "    # y = new_df['readmitted']\n",
    "    # X = new_df.drop(columns=['readmitted'])\n",
    "\n",
    "    # Use numpy arrays for target and features\n",
    "    y = new_df.readmitted.values\n",
    "    new_df=new_df.drop(['readmitted'],axis=1)\n",
    "    X = new_df.to_numpy()\n",
    "\n",
    "    # Column names needed for feature ranking\n",
    "    colnames = new_df.columns\n",
    "\n",
    "    # Split the data into training and testing sets\n",
    "    X_train, X_test, y_train, y_test = train_test_split(X, y, test_size=.2, random_state=26)\n",
    "\n",
    "    # Create a Random Forest classifier\n",
    "    rf_classifier = RandomForestClassifier()\n",
    "    rf_classifier.fit(X_train,y_train)\n",
    "    \n",
    "    # Define the number of features to select using RFE\n",
    "    num_features_to_select = n_features_for_rfe\n",
    "\n",
    "    # Function to perform RFE and return the selected features\n",
    "    def run_rfe(num_features):\n",
    "        rfe = RFE(estimator=rf_classifier, n_features_to_select=num_features, verbose=2)\n",
    "        rfe.fit(X_train, y_train)\n",
    "        return [colnames[i] for i, support in enumerate(rfe.support_) if support]\n",
    "\n",
    "    # Perform RFE using joblib for parallel processing\n",
    "    selected_features = Parallel(n_jobs=-1, prefer='threads')(\n",
    "        delayed(run_rfe)(i) for i in range(1, num_features_to_select + 1)\n",
    "    )\n",
    "\n",
    "    # Print the selected features\n",
    "    print(\"Selected Features:\")\n",
    "    print(selected_features)"
   ]
  },
  {
   "cell_type": "code",
   "execution_count": 41,
   "metadata": {},
   "outputs": [],
   "source": [
    "from sklearn.model_selection import train_test_split\n",
    "from sklearn.preprocessing import StandardScaler\n",
    "from sklearn.preprocessing import OrdinalEncoder\n",
    "from sklearn.ensemble import RandomForestClassifier\n",
    "from sklearn.feature_selection import RFE\n",
    "from sklearn.metrics import accuracy_score\n",
    "from joblib import Parallel, delayed\n",
    "\n",
    "def model_creator_3(features, n_features_for_rfe, num_features):\n",
    "    # Calculate the number of rows that correspond to about 10 percent of the data\n",
    "    sample_size = len(df) // 10\n",
    "\n",
    "    # Randomly select 10 percent of the rows from the DataFrame\n",
    "    sampled_data = df.sample(n=sample_size, random_state=13)\n",
    "    \n",
    "    # Seperate target from data\n",
    "    target = sampled_data['readmitted']\n",
    "    temp_df = sampled_data.drop(columns=['readmitted'])\n",
    "\n",
    "    # Create df with just the features wanted\n",
    "    new_df = temp_df[features].dropna()\n",
    "    \n",
    "    # Identify numeric and categorical columns\n",
    "    numeric_features = num_features\n",
    "    categorical_features = list(set(features) - set(numeric_features))\n",
    "\n",
    "    # Create scaler for numerical columns\n",
    "    sc = StandardScaler()\n",
    "\n",
    "    # update the cols with their normalized values\n",
    "    if numeric_features != []:\n",
    "        new_df[numeric_features] = sc.fit_transform(new_df[numeric_features])\n",
    "\n",
    "    # Create the OrdinalEncoder instance\n",
    "    encoder = OrdinalEncoder()\n",
    "\n",
    "    # Fit and transform the encoder on the categorical columns\n",
    "    encoded_values = encoder.fit_transform(new_df[categorical_features])\n",
    "\n",
    "    # Replace categorical features with encoded values\n",
    "    new_df[categorical_features] = encoded_values\n",
    "\n",
    "    # Use numpy arrays for X and y\n",
    "    y = target.values\n",
    "    X = new_df.values\n",
    "\n",
    "    # Split the data into training and testing sets\n",
    "    X_train, X_test, y_train, y_test = train_test_split(X, y, test_size=.2, random_state=26)\n",
    "\n",
    "    # Create a Random Forest classifier\n",
    "    rf_classifier = RandomForestClassifier()\n",
    "    rf_classifier.fit(X_train,y_train)\n",
    "    \n",
    "    # Define the number of features to select using RFE\n",
    "    num_features_to_select = n_features_for_rfe\n",
    "\n",
    "    # Function to perform RFE and return the selected features\n",
    "    def run_rfe(num_features):\n",
    "        rfe = RFE(estimator=rf_classifier, n_features_to_select=num_features, verbose=2)\n",
    "        rfe.fit(X_train, y_train)\n",
    "\n",
    "        # Extract the selected feature indices\n",
    "        selected_indices = [i for i, support in enumerate(rfe.support_) if support]\n",
    "    \n",
    "        # Map selected indices to original column names\n",
    "        selected_features = [new_df.columns[i] for i in selected_indices]\n",
    "\n",
    "        # Make predictions on the test set using the RFE-selected features\n",
    "        y_pred = rfe.predict(X_test)\n",
    "\n",
    "        # Calculate accuracy\n",
    "        accuracy = accuracy_score(y_test, y_pred)\n",
    "    \n",
    "        return selected_features, accuracy\n",
    "\n",
    "    # Perform RFE using joblib for parallel processing\n",
    "    results = Parallel(n_jobs=-1, prefer='threads')(\n",
    "        delayed(run_rfe)(i) for i in range(1, num_features_to_select + 1)\n",
    "    )\n",
    "\n",
    "    # Separate selected features and accuracies\n",
    "    selected_features_list, accuracy_list = zip(*results)\n",
    "\n",
    "    return selected_features_list, accuracy_list"
   ]
  },
  {
   "cell_type": "markdown",
   "metadata": {},
   "source": [
    "Below is the setup for `model_creator_2()`."
   ]
  },
  {
   "cell_type": "code",
   "execution_count": null,
   "metadata": {},
   "outputs": [],
   "source": [
    "# Pick which features to use.\n",
    "# MUST include 'readmitted' the target\n",
    "full_feature_list = ['race', 'gender', 'age', 'weight', 'admission_type_id', 'discharge_disposition_id', \n",
    "        'admission_source_id', 'time_in_hospital', 'payer_code', 'medical_specialty',\n",
    "        'num_lab_procedures', 'num_procedures', 'num_medications', 'number_outpatient',\n",
    "        'number_emergency', 'number_inpatient', 'number_diagnoses', \n",
    "        'max_glu_serum', 'A1Cresult', 'metformin', 'repaglinide', 'nateglinide', 'chlorpropamide',\n",
    "        'glimepiride', 'glipizide', 'glyburide', 'pioglitazone', 'rosiglitazone', \n",
    "        'acarbose', 'insulin', 'glyburide-metformin', 'change', 'diabetesMed', \n",
    "        'diag_1', 'diag_2', 'diag_3', 'readmitted']\n",
    "\n",
    "# Remove features\n",
    "remove_features = ['payer_code', 'diag_2', 'diag_3', 'chlorpropamide', 'repaglinide']\n",
    "\n",
    "# Define the numerical features in the DataFrame\n",
    "numeric_features = ['time_in_hospital', 'num_lab_procedures', 'num_procedures', 'num_medications',\n",
    "                    'number_outpatient', 'number_emergency', 'number_inpatient', 'number_diagnoses']\n",
    "\n",
    "# Create feature list for RFE\n",
    "features_list = list(set(full_feature_list) - set(remove_features))\n",
    "\n",
    "# test lists to test function\n",
    "test_list = ['race', 'gender', 'age', 'weight', 'readmitted']\n",
    "empty_list = []\n",
    "\n",
    "# Takes 3 arguments; feature list, number of features for selection in rfe (int), \n",
    "# and numerical feature list\n",
    "model_creator_2(test_list, 3, empty_list)"
   ]
  },
  {
   "cell_type": "markdown",
   "metadata": {},
   "source": [
    "Below is the setup for `model_creator_3()`."
   ]
  },
  {
   "cell_type": "code",
   "execution_count": 46,
   "metadata": {},
   "outputs": [
    {
     "name": "stdout",
     "output_type": "stream",
     "text": [
      "Fitting estimator with 31 features.Fitting estimator with 31 features.\n",
      "\n",
      "Fitting estimator with 31 features.\n",
      "Fitting estimator with 31 features.\n",
      "Fitting estimator with 31 features.\n",
      "Fitting estimator with 31 features.\n",
      "Fitting estimator with 31 features.\n",
      "Fitting estimator with 31 features.\n",
      "Fitting estimator with 31 features.\n",
      "Fitting estimator with 31 features.\n",
      "Fitting estimator with 31 features.\n",
      "Fitting estimator with 31 features.\n",
      "Fitting estimator with 31 features.\n",
      "Fitting estimator with 31 features.\n",
      "Fitting estimator with 31 features.\n",
      "Fitting estimator with 31 features.\n",
      "Fitting estimator with 30 features.\n",
      "Fitting estimator with 30 features.\n",
      "Fitting estimator with 30 features.\n",
      "Fitting estimator with 30 features.\n",
      "Fitting estimator with 30 features.\n",
      "Fitting estimator with 30 features.\n",
      "Fitting estimator with 30 features.\n",
      "Fitting estimator with 30 features.\n",
      "Fitting estimator with 30 features.\n",
      "Fitting estimator with 30 features.\n",
      "Fitting estimator with 30 features.\n",
      "Fitting estimator with 30 features.\n",
      "Fitting estimator with 30 features.\n",
      "Fitting estimator with 30 features.\n",
      "Fitting estimator with 30 features.\n",
      "Fitting estimator with 30 features.\n",
      "Fitting estimator with 29 features.\n",
      "Fitting estimator with 29 features.\n",
      "Fitting estimator with 29 features.\n",
      "Fitting estimator with 29 features.\n",
      "Fitting estimator with 29 features.\n",
      "Fitting estimator with 29 features.\n",
      "Fitting estimator with 29 features.\n",
      "Fitting estimator with 29 features.\n",
      "Fitting estimator with 29 features.\n",
      "Fitting estimator with 29 features.\n",
      "Fitting estimator with 29 features.Fitting estimator with 29 features.\n",
      "\n",
      "Fitting estimator with 29 features.\n",
      "Fitting estimator with 29 features.\n",
      "Fitting estimator with 29 features.\n",
      "Fitting estimator with 29 features.\n",
      "Fitting estimator with 28 features.\n",
      "Fitting estimator with 28 features.\n",
      "Fitting estimator with 28 features.\n",
      "Fitting estimator with 28 features.\n",
      "Fitting estimator with 28 features.\n",
      "Fitting estimator with 28 features.\n",
      "Fitting estimator with 28 features.\n",
      "Fitting estimator with 28 features.\n",
      "Fitting estimator with 28 features.\n",
      "Fitting estimator with 28 features.\n",
      "Fitting estimator with 28 features.\n",
      "Fitting estimator with 28 features.\n",
      "Fitting estimator with 28 features.\n",
      "Fitting estimator with 28 features.\n",
      "Fitting estimator with 28 features.\n",
      "Fitting estimator with 28 features.\n",
      "Fitting estimator with 27 features.\n",
      "Fitting estimator with 27 features.\n",
      "Fitting estimator with 27 features.\n",
      "Fitting estimator with 27 features.\n",
      "Fitting estimator with 27 features.\n",
      "Fitting estimator with 27 features.\n",
      "Fitting estimator with 27 features.\n",
      "Fitting estimator with 27 features.\n",
      "Fitting estimator with 27 features.\n",
      "Fitting estimator with 27 features.\n",
      "Fitting estimator with 27 features.\n",
      "Fitting estimator with 27 features.\n",
      "Fitting estimator with 27 features.\n",
      "Fitting estimator with 27 features.\n",
      "Fitting estimator with 27 features.\n",
      "Fitting estimator with 27 features.\n",
      "Fitting estimator with 26 features.\n",
      "Fitting estimator with 26 features.\n",
      "Fitting estimator with 26 features.\n",
      "Fitting estimator with 26 features.\n",
      "Fitting estimator with 26 features.\n",
      "Fitting estimator with 26 features.\n",
      "Fitting estimator with 26 features.Fitting estimator with 26 features.\n",
      "\n",
      "Fitting estimator with 26 features.\n",
      "Fitting estimator with 26 features.\n",
      "Fitting estimator with 26 features.\n",
      "Fitting estimator with 26 features.\n",
      "Fitting estimator with 26 features.\n",
      "Fitting estimator with 26 features.\n",
      "Fitting estimator with 26 features.Fitting estimator with 26 features.\n",
      "\n",
      "Fitting estimator with 25 features.\n",
      "Fitting estimator with 25 features.\n",
      "Fitting estimator with 25 features.\n",
      "Fitting estimator with 25 features.\n",
      "Fitting estimator with 25 features.\n",
      "Fitting estimator with 25 features.\n",
      "Fitting estimator with 25 features.\n",
      "Fitting estimator with 25 features.\n",
      "Fitting estimator with 25 features.\n",
      "Fitting estimator with 25 features.\n",
      "Fitting estimator with 25 features.\n",
      "Fitting estimator with 25 features.\n",
      "Fitting estimator with 25 features.\n",
      "Fitting estimator with 25 features.\n",
      "Fitting estimator with 25 features.\n",
      "Fitting estimator with 25 features.\n",
      "Fitting estimator with 24 features.\n",
      "Fitting estimator with 24 features.\n",
      "Fitting estimator with 24 features.\n",
      "Fitting estimator with 24 features.\n",
      "Fitting estimator with 24 features.\n",
      "Fitting estimator with 24 features.\n",
      "Fitting estimator with 24 features.\n",
      "Fitting estimator with 24 features.\n",
      "Fitting estimator with 24 features.\n",
      "Fitting estimator with 24 features.\n",
      "Fitting estimator with 24 features.\n",
      "Fitting estimator with 24 features.\n",
      "Fitting estimator with 24 features.\n",
      "Fitting estimator with 24 features.\n",
      "Fitting estimator with 24 features.\n",
      "Fitting estimator with 24 features.\n",
      "Fitting estimator with 23 features.\n",
      "Fitting estimator with 23 features.\n",
      "Fitting estimator with 23 features.\n",
      "Fitting estimator with 23 features.\n",
      "Fitting estimator with 23 features.\n",
      "Fitting estimator with 23 features.\n",
      "Fitting estimator with 23 features.\n",
      "Fitting estimator with 23 features.\n",
      "Fitting estimator with 23 features.\n",
      "Fitting estimator with 23 features.\n",
      "Fitting estimator with 23 features.\n",
      "Fitting estimator with 23 features.\n",
      "Fitting estimator with 23 features.\n",
      "Fitting estimator with 23 features.\n",
      "Fitting estimator with 23 features.\n",
      "Fitting estimator with 23 features.\n",
      "Fitting estimator with 22 features.\n",
      "Fitting estimator with 22 features.\n",
      "Fitting estimator with 22 features.\n",
      "Fitting estimator with 22 features.\n",
      "Fitting estimator with 22 features.\n",
      "Fitting estimator with 22 features.\n",
      "Fitting estimator with 22 features.\n",
      "Fitting estimator with 22 features.\n",
      "Fitting estimator with 22 features.\n",
      "Fitting estimator with 22 features.\n",
      "Fitting estimator with 22 features.\n",
      "Fitting estimator with 22 features.\n",
      "Fitting estimator with 22 features.\n",
      "Fitting estimator with 22 features.\n",
      "Fitting estimator with 22 features.\n",
      "Fitting estimator with 22 features.\n",
      "Fitting estimator with 21 features.\n",
      "Fitting estimator with 21 features.\n",
      "Fitting estimator with 21 features.\n",
      "Fitting estimator with 21 features.\n",
      "Fitting estimator with 21 features.\n",
      "Fitting estimator with 21 features.\n",
      "Fitting estimator with 21 features.\n",
      "Fitting estimator with 21 features.\n",
      "Fitting estimator with 21 features.\n",
      "Fitting estimator with 21 features.\n",
      "Fitting estimator with 21 features.\n",
      "Fitting estimator with 21 features.\n",
      "Fitting estimator with 21 features.\n",
      "Fitting estimator with 21 features.\n",
      "Fitting estimator with 21 features.\n",
      "Fitting estimator with 21 features.\n",
      "Fitting estimator with 20 features.\n",
      "Fitting estimator with 20 features.\n",
      "Fitting estimator with 20 features.\n",
      "Fitting estimator with 20 features.\n",
      "Fitting estimator with 20 features.\n",
      "Fitting estimator with 20 features.\n",
      "Fitting estimator with 20 features.\n",
      "Fitting estimator with 20 features.\n",
      "Fitting estimator with 20 features.\n",
      "Fitting estimator with 20 features.\n",
      "Fitting estimator with 20 features.\n",
      "Fitting estimator with 20 features.\n",
      "Fitting estimator with 20 features.\n",
      "Fitting estimator with 20 features.\n",
      "Fitting estimator with 20 features.\n",
      "Fitting estimator with 20 features.\n",
      "Fitting estimator with 19 features.\n",
      "Fitting estimator with 19 features.\n",
      "Fitting estimator with 19 features.\n",
      "Fitting estimator with 19 features.\n",
      "Fitting estimator with 19 features.\n",
      "Fitting estimator with 19 features.\n",
      "Fitting estimator with 19 features.\n",
      "Fitting estimator with 19 features.\n",
      "Fitting estimator with 19 features.\n",
      "Fitting estimator with 19 features.\n",
      "Fitting estimator with 19 features.\n",
      "Fitting estimator with 19 features.\n",
      "Fitting estimator with 19 features.\n",
      "Fitting estimator with 19 features.\n",
      "Fitting estimator with 19 features.\n",
      "Fitting estimator with 19 features.\n",
      "Fitting estimator with 18 features.\n",
      "Fitting estimator with 18 features.\n",
      "Fitting estimator with 18 features.\n",
      "Fitting estimator with 18 features.\n",
      "Fitting estimator with 18 features.\n",
      "Fitting estimator with 18 features.\n",
      "Fitting estimator with 18 features.\n",
      "Fitting estimator with 18 features.\n",
      "Fitting estimator with 18 features.\n",
      "Fitting estimator with 18 features.\n",
      "Fitting estimator with 18 features.\n",
      "Fitting estimator with 18 features.\n",
      "Fitting estimator with 18 features.\n",
      "Fitting estimator with 18 features.\n",
      "Fitting estimator with 18 features.\n",
      "Fitting estimator with 18 features.\n",
      "Fitting estimator with 17 features.\n",
      "Fitting estimator with 17 features.\n",
      "Fitting estimator with 17 features.\n",
      "Fitting estimator with 17 features.\n",
      "Fitting estimator with 17 features.\n",
      "Fitting estimator with 17 features.\n",
      "Fitting estimator with 17 features.\n",
      "Fitting estimator with 17 features.\n",
      "Fitting estimator with 17 features.\n",
      "Fitting estimator with 17 features.\n",
      "Fitting estimator with 17 features.\n",
      "Fitting estimator with 17 features.\n",
      "Fitting estimator with 17 features.Fitting estimator with 17 features.\n",
      "\n",
      "Fitting estimator with 17 features.\n",
      "Fitting estimator with 17 features.\n",
      "Fitting estimator with 16 features.\n",
      "Fitting estimator with 16 features.\n",
      "Fitting estimator with 16 features.\n",
      "Fitting estimator with 16 features.\n",
      "Fitting estimator with 16 features.\n",
      "Fitting estimator with 16 features.\n",
      "Fitting estimator with 16 features.\n",
      "Fitting estimator with 16 features.\n",
      "Fitting estimator with 16 features.\n",
      "Fitting estimator with 16 features.\n",
      "Fitting estimator with 16 features.Fitting estimator with 16 features.\n",
      "\n",
      "Fitting estimator with 16 features.\n",
      "Fitting estimator with 16 features.\n",
      "Fitting estimator with 16 features.\n",
      "Fitting estimator with 15 features.\n",
      "Fitting estimator with 15 features.\n",
      "Fitting estimator with 15 features.\n",
      "Fitting estimator with 15 features.\n",
      "Fitting estimator with 15 features.\n",
      "Fitting estimator with 31 features.\n",
      "Fitting estimator with 15 features.\n",
      "Fitting estimator with 15 features.\n",
      "Fitting estimator with 15 features.\n",
      "Fitting estimator with 15 features.\n",
      "Fitting estimator with 15 features.\n",
      "Fitting estimator with 15 features.\n",
      "Fitting estimator with 15 features.\n",
      "Fitting estimator with 15 features.\n",
      "Fitting estimator with 15 features.\n",
      "Fitting estimator with 14 features.\n",
      "Fitting estimator with 31 features.\n",
      "Fitting estimator with 14 features.\n",
      "Fitting estimator with 14 features.\n",
      "Fitting estimator with 30 features.\n",
      "Fitting estimator with 14 features.\n",
      "Fitting estimator with 14 features.\n",
      "Fitting estimator with 14 features.\n",
      "Fitting estimator with 14 features.\n",
      "Fitting estimator with 14 features.\n",
      "Fitting estimator with 14 features.\n",
      "Fitting estimator with 14 features.\n",
      "Fitting estimator with 14 features.\n",
      "Fitting estimator with 14 features.\n",
      "Fitting estimator with 14 features.\n",
      "Fitting estimator with 31 features.\n",
      "Fitting estimator with 13 features.\n",
      "Fitting estimator with 30 features.\n",
      "Fitting estimator with 13 features.\n",
      "Fitting estimator with 13 features.\n",
      "Fitting estimator with 29 features.\n",
      "Fitting estimator with 13 features.\n",
      "Fitting estimator with 13 features.\n",
      "Fitting estimator with 13 features.\n",
      "Fitting estimator with 13 features.\n",
      "Fitting estimator with 13 features.\n",
      "Fitting estimator with 13 features.\n",
      "Fitting estimator with 13 features.\n",
      "Fitting estimator with 13 features.\n",
      "Fitting estimator with 13 features.\n",
      "Fitting estimator with 30 features.\n",
      "Fitting estimator with 12 features.\n",
      "Fitting estimator with 29 features.\n",
      "Fitting estimator with 12 features.\n",
      "Fitting estimator with 12 features.\n",
      "Fitting estimator with 12 features.\n",
      "Fitting estimator with 28 features.\n",
      "Fitting estimator with 12 features.\n",
      "Fitting estimator with 12 features.\n",
      "Fitting estimator with 12 features.\n",
      "Fitting estimator with 31 features.\n",
      "Fitting estimator with 12 features.\n",
      "Fitting estimator with 12 features.\n",
      "Fitting estimator with 12 features.\n",
      "Fitting estimator with 12 features.\n",
      "Fitting estimator with 29 features.\n",
      "Fitting estimator with 11 features.\n",
      "Fitting estimator with 28 features.\n",
      "Fitting estimator with 11 features.\n",
      "Fitting estimator with 11 features.\n",
      "Fitting estimator with 27 features.\n",
      "Fitting estimator with 11 features.\n",
      "Fitting estimator with 11 features.\n",
      "Fitting estimator with 11 features.\n",
      "Fitting estimator with 30 features.\n",
      "Fitting estimator with 11 features.Fitting estimator with 11 features.\n",
      "\n",
      "Fitting estimator with 11 features.\n",
      "Fitting estimator with 11 features.\n",
      "Fitting estimator with 31 features.\n",
      "Fitting estimator with 28 features.\n",
      "Fitting estimator with 10 features.\n",
      "Fitting estimator with 27 features.\n",
      "Fitting estimator with 10 features.\n",
      "Fitting estimator with 31 features.\n",
      "Fitting estimator with 10 features.\n",
      "Fitting estimator with 26 features.\n",
      "Fitting estimator with 10 features.\n",
      "Fitting estimator with 10 features.\n",
      "Fitting estimator with 29 features.\n",
      "Fitting estimator with 10 features.\n",
      "Fitting estimator with 10 features.\n",
      "Fitting estimator with 10 features.\n",
      "Fitting estimator with 10 features.\n",
      "Fitting estimator with 30 features.\n",
      "Fitting estimator with 27 features.\n",
      "Fitting estimator with 9 features.\n",
      "Fitting estimator with 26 features.\n",
      "Fitting estimator with 9 features.\n",
      "Fitting estimator with 30 features.\n",
      "Fitting estimator with 9 features.\n",
      "Fitting estimator with 25 features.\n",
      "Fitting estimator with 9 features.\n",
      "Fitting estimator with 9 features.\n",
      "Fitting estimator with 28 features.\n",
      "Fitting estimator with 31 features.\n",
      "Fitting estimator with 9 features.\n",
      "Fitting estimator with 9 features.\n",
      "Fitting estimator with 9 features.\n",
      "Fitting estimator with 29 features.\n",
      "Fitting estimator with 26 features.\n",
      "Fitting estimator with 8 features.\n",
      "Fitting estimator with 25 features.\n",
      "Fitting estimator with 29 features.\n",
      "Fitting estimator with 8 features.\n",
      "Fitting estimator with 24 features.\n",
      "Fitting estimator with 8 features.\n",
      "Fitting estimator with 8 features.\n",
      "Fitting estimator with 27 features.\n",
      "Fitting estimator with 30 features.\n",
      "Fitting estimator with 8 features.\n",
      "Fitting estimator with 8 features.\n",
      "Fitting estimator with 8 features.\n",
      "Fitting estimator with 28 features.\n",
      "Fitting estimator with 31 features.\n",
      "Fitting estimator with 25 features.\n",
      "Fitting estimator with 24 features.\n",
      "Fitting estimator with 31 features.\n",
      "Fitting estimator with 28 features.\n",
      "Fitting estimator with 7 features.\n",
      "Fitting estimator with 23 features.\n",
      "Fitting estimator with 7 features.\n",
      "Fitting estimator with 7 features.\n",
      "Fitting estimator with 26 features.\n",
      "Fitting estimator with 29 features.\n",
      "Fitting estimator with 7 features.\n",
      "Fitting estimator with 7 features.\n",
      "Fitting estimator with 7 features.\n",
      "Fitting estimator with 27 features.\n",
      "Fitting estimator with 30 features.\n",
      "Fitting estimator with 24 features.\n",
      "Fitting estimator with 31 features.\n",
      "Fitting estimator with 23 features.\n",
      "Fitting estimator with 30 features.\n",
      "Fitting estimator with 27 features.\n",
      "Fitting estimator with 6 features.\n",
      "Fitting estimator with 22 features.\n",
      "Fitting estimator with 6 features.\n",
      "Fitting estimator with 25 features.\n",
      "Fitting estimator with 28 features.\n",
      "Fitting estimator with 6 features.\n",
      "Fitting estimator with 6 features.\n",
      "Fitting estimator with 6 features.\n",
      "Fitting estimator with 26 features.\n",
      "Fitting estimator with 29 features.\n",
      "Fitting estimator with 23 features.\n",
      "Fitting estimator with 22 features.\n",
      "Fitting estimator with 30 features.\n",
      "Fitting estimator with 29 features.\n",
      "Fitting estimator with 26 features.\n",
      "Fitting estimator with 5 features.\n",
      "Fitting estimator with 21 features.\n",
      "Fitting estimator with 5 features.\n",
      "Fitting estimator with 24 features.\n",
      "Fitting estimator with 31 features.\n",
      "Fitting estimator with 27 features.\n",
      "Fitting estimator with 5 features.\n",
      "Fitting estimator with 5 features.\n",
      "Fitting estimator with 25 features.\n",
      "Fitting estimator with 28 features.\n",
      "Fitting estimator with 22 features.\n",
      "Fitting estimator with 21 features.\n",
      "Fitting estimator with 29 features.\n",
      "Fitting estimator with 28 features.\n",
      "Fitting estimator with 25 features.\n",
      "Fitting estimator with 4 features.\n",
      "Fitting estimator with 20 features.\n",
      "Fitting estimator with 23 features.\n",
      "Fitting estimator with 30 features.\n",
      "Fitting estimator with 26 features.\n",
      "Fitting estimator with 4 features.\n",
      "Fitting estimator with 31 features.\n",
      "Fitting estimator with 4 features.\n",
      "Fitting estimator with 24 features.\n",
      "Fitting estimator with 27 features.\n",
      "Fitting estimator with 21 features.\n",
      "Fitting estimator with 20 features.\n",
      "Fitting estimator with 28 features.\n",
      "Fitting estimator with 27 features.\n",
      "Fitting estimator with 24 features.\n",
      "Fitting estimator with 3 features.\n",
      "Fitting estimator with 19 features.\n",
      "Fitting estimator with 31 features.\n",
      "Fitting estimator with 22 features.\n",
      "Fitting estimator with 29 features.\n",
      "Fitting estimator with 25 features.\n",
      "Fitting estimator with 30 features.\n",
      "Fitting estimator with 3 features.\n",
      "Fitting estimator with 23 features.\n",
      "Fitting estimator with 26 features.\n",
      "Fitting estimator with 20 features.\n",
      "Fitting estimator with 19 features.\n",
      "Fitting estimator with 27 features.\n",
      "Fitting estimator with 26 features.\n",
      "Fitting estimator with 23 features.\n",
      "Fitting estimator with 2 features.\n",
      "Fitting estimator with 18 features.\n",
      "Fitting estimator with 31 features.\n",
      "Fitting estimator with 30 features.\n",
      "Fitting estimator with 21 features.\n",
      "Fitting estimator with 24 features.\n",
      "Fitting estimator with 28 features.\n",
      "Fitting estimator with 29 features.\n",
      "Fitting estimator with 22 features.\n",
      "Fitting estimator with 25 features.\n"
     ]
    }
   ],
   "source": [
    "# Pick which features to use.\n",
    "# Don't have to add target 'readmitted'\n",
    "full_feature_list = ['race', 'gender', 'age', 'weight', 'admission_type_id', 'discharge_disposition_id', \n",
    "        'admission_source_id', 'time_in_hospital', 'payer_code', 'medical_specialty',\n",
    "        'num_lab_procedures', 'num_procedures', 'num_medications', 'number_outpatient',\n",
    "        'number_emergency', 'number_inpatient', 'number_diagnoses', \n",
    "        'max_glu_serum', 'A1Cresult', 'metformin', 'repaglinide', 'nateglinide', 'chlorpropamide',\n",
    "        'glimepiride', 'glipizide', 'glyburide', 'pioglitazone', 'rosiglitazone', \n",
    "        'acarbose', 'insulin', 'glyburide-metformin', 'change', 'diabetesMed', \n",
    "        'diag_1', 'diag_2', 'diag_3']\n",
    "\n",
    "# Remove features\n",
    "remove_features = ['payer_code', 'diag_2', 'diag_3', 'chlorpropamide', 'repaglinide']\n",
    "\n",
    "# Define the numerical features in the DataFrame\n",
    "numeric_features = ['time_in_hospital', 'num_lab_procedures', 'num_procedures', 'num_medications',\n",
    "                    'number_outpatient', 'number_emergency', 'number_inpatient', 'number_diagnoses']\n",
    "\n",
    "# Create feature list for RFE\n",
    "features_list = list(set(full_feature_list) - set(remove_features))\n",
    "\n",
    "# test lists to test function\n",
    "test_list = ['race', 'gender', 'age', 'weight']\n",
    "empty_list = []\n",
    "\n",
    "# Takes 3 arguments; feature list, number of features for selection in rfe (int), \n",
    "# and numerical feature list\n",
    "selected_features, accuracy = model_creator_3(features_list, 30, numeric_features)"
   ]
  },
  {
   "cell_type": "code",
   "execution_count": 47,
   "metadata": {},
   "outputs": [
    {
     "name": "stdout",
     "output_type": "stream",
     "text": [
      "Accuracy: (['diag_1'], ['num_lab_procedures', 'diag_1'], ['num_medications', 'num_lab_procedures', 'diag_1'], ['time_in_hospital', 'num_medications', 'num_lab_procedures', 'diag_1'], ['time_in_hospital', 'num_medications', 'age', 'num_lab_procedures', 'diag_1'], ['time_in_hospital', 'num_medications', 'age', 'num_lab_procedures', 'diag_1', 'medical_specialty'], ['time_in_hospital', 'num_medications', 'age', 'num_lab_procedures', 'diag_1', 'number_diagnoses', 'medical_specialty'], ['time_in_hospital', 'num_medications', 'age', 'discharge_disposition_id', 'num_lab_procedures', 'diag_1', 'number_diagnoses', 'medical_specialty'], ['time_in_hospital', 'num_medications', 'age', 'discharge_disposition_id', 'insulin', 'num_lab_procedures', 'diag_1', 'number_diagnoses', 'medical_specialty'], ['time_in_hospital', 'num_procedures', 'num_medications', 'age', 'discharge_disposition_id', 'number_inpatient', 'num_lab_procedures', 'diag_1', 'number_diagnoses', 'medical_specialty'], ['time_in_hospital', 'num_procedures', 'num_medications', 'age', 'discharge_disposition_id', 'number_inpatient', 'insulin', 'num_lab_procedures', 'diag_1', 'number_diagnoses', 'medical_specialty'], ['time_in_hospital', 'num_procedures', 'num_medications', 'age', 'discharge_disposition_id', 'number_inpatient', 'insulin', 'num_lab_procedures', 'diag_1', 'admission_type_id', 'number_diagnoses', 'medical_specialty'], ['time_in_hospital', 'num_procedures', 'num_medications', 'age', 'discharge_disposition_id', 'number_inpatient', 'insulin', 'num_lab_procedures', 'diag_1', 'admission_type_id', 'number_diagnoses', 'medical_specialty', 'race'], ['time_in_hospital', 'num_procedures', 'admission_source_id', 'num_medications', 'age', 'discharge_disposition_id', 'number_inpatient', 'insulin', 'num_lab_procedures', 'diag_1', 'admission_type_id', 'number_diagnoses', 'medical_specialty', 'race'], ['time_in_hospital', 'num_procedures', 'admission_source_id', 'num_medications', 'age', 'discharge_disposition_id', 'number_inpatient', 'A1Cresult', 'insulin', 'num_lab_procedures', 'diag_1', 'admission_type_id', 'number_diagnoses', 'medical_specialty', 'race'], ['time_in_hospital', 'num_procedures', 'admission_source_id', 'num_medications', 'age', 'discharge_disposition_id', 'number_inpatient', 'A1Cresult', 'insulin', 'num_lab_procedures', 'diag_1', 'gender', 'admission_type_id', 'number_diagnoses', 'medical_specialty', 'race'], ['time_in_hospital', 'num_procedures', 'admission_source_id', 'number_outpatient', 'num_medications', 'age', 'discharge_disposition_id', 'number_inpatient', 'A1Cresult', 'insulin', 'num_lab_procedures', 'diag_1', 'gender', 'admission_type_id', 'number_diagnoses', 'medical_specialty', 'race'], ['time_in_hospital', 'metformin', 'num_procedures', 'admission_source_id', 'number_outpatient', 'num_medications', 'age', 'discharge_disposition_id', 'number_inpatient', 'A1Cresult', 'insulin', 'num_lab_procedures', 'diag_1', 'gender', 'admission_type_id', 'number_diagnoses', 'medical_specialty', 'race'], ['time_in_hospital', 'change', 'metformin', 'num_procedures', 'admission_source_id', 'number_outpatient', 'num_medications', 'age', 'discharge_disposition_id', 'number_inpatient', 'A1Cresult', 'insulin', 'num_lab_procedures', 'diag_1', 'gender', 'admission_type_id', 'number_diagnoses', 'medical_specialty', 'race'], ['time_in_hospital', 'change', 'metformin', 'num_procedures', 'admission_source_id', 'number_outpatient', 'num_medications', 'age', 'number_emergency', 'discharge_disposition_id', 'number_inpatient', 'A1Cresult', 'insulin', 'num_lab_procedures', 'diag_1', 'gender', 'admission_type_id', 'number_diagnoses', 'medical_specialty', 'race'], ['time_in_hospital', 'change', 'metformin', 'num_procedures', 'admission_source_id', 'number_outpatient', 'num_medications', 'age', 'number_emergency', 'discharge_disposition_id', 'number_inpatient', 'A1Cresult', 'insulin', 'num_lab_procedures', 'diag_1', 'gender', 'admission_type_id', 'glipizide', 'number_diagnoses', 'medical_specialty', 'race'], ['time_in_hospital', 'change', 'metformin', 'num_procedures', 'admission_source_id', 'number_outpatient', 'num_medications', 'age', 'number_emergency', 'discharge_disposition_id', 'glyburide', 'number_inpatient', 'A1Cresult', 'insulin', 'num_lab_procedures', 'diag_1', 'gender', 'admission_type_id', 'glipizide', 'number_diagnoses', 'medical_specialty', 'race'], ['time_in_hospital', 'change', 'metformin', 'num_procedures', 'admission_source_id', 'number_outpatient', 'num_medications', 'age', 'number_emergency', 'discharge_disposition_id', 'glyburide', 'number_inpatient', 'A1Cresult', 'insulin', 'num_lab_procedures', 'diag_1', 'gender', 'diabetesMed', 'admission_type_id', 'glipizide', 'number_diagnoses', 'medical_specialty', 'race'], ['time_in_hospital', 'change', 'metformin', 'num_procedures', 'admission_source_id', 'number_outpatient', 'num_medications', 'age', 'pioglitazone', 'number_emergency', 'discharge_disposition_id', 'glyburide', 'number_inpatient', 'A1Cresult', 'insulin', 'num_lab_procedures', 'diag_1', 'gender', 'diabetesMed', 'admission_type_id', 'glipizide', 'number_diagnoses', 'medical_specialty', 'race'], ['time_in_hospital', 'change', 'metformin', 'num_procedures', 'admission_source_id', 'number_outpatient', 'num_medications', 'age', 'pioglitazone', 'number_emergency', 'discharge_disposition_id', 'glyburide', 'number_inpatient', 'A1Cresult', 'insulin', 'num_lab_procedures', 'glimepiride', 'diag_1', 'gender', 'diabetesMed', 'admission_type_id', 'glipizide', 'number_diagnoses', 'medical_specialty', 'race'], ['time_in_hospital', 'change', 'metformin', 'num_procedures', 'admission_source_id', 'number_outpatient', 'num_medications', 'age', 'pioglitazone', 'number_emergency', 'discharge_disposition_id', 'glyburide', 'number_inpatient', 'A1Cresult', 'rosiglitazone', 'insulin', 'num_lab_procedures', 'glimepiride', 'diag_1', 'gender', 'diabetesMed', 'admission_type_id', 'glipizide', 'number_diagnoses', 'medical_specialty', 'race'], ['time_in_hospital', 'change', 'metformin', 'num_procedures', 'admission_source_id', 'number_outpatient', 'num_medications', 'age', 'pioglitazone', 'number_emergency', 'discharge_disposition_id', 'glyburide', 'number_inpatient', 'A1Cresult', 'rosiglitazone', 'insulin', 'num_lab_procedures', 'glimepiride', 'max_glu_serum', 'diag_1', 'gender', 'diabetesMed', 'admission_type_id', 'glipizide', 'number_diagnoses', 'medical_specialty', 'race'], ['time_in_hospital', 'change', 'metformin', 'num_procedures', 'admission_source_id', 'number_outpatient', 'weight', 'num_medications', 'age', 'pioglitazone', 'number_emergency', 'discharge_disposition_id', 'glyburide', 'number_inpatient', 'A1Cresult', 'rosiglitazone', 'insulin', 'num_lab_procedures', 'glimepiride', 'max_glu_serum', 'diag_1', 'gender', 'diabetesMed', 'admission_type_id', 'glipizide', 'number_diagnoses', 'medical_specialty', 'race'], ['time_in_hospital', 'change', 'metformin', 'num_procedures', 'admission_source_id', 'number_outpatient', 'weight', 'glyburide-metformin', 'num_medications', 'age', 'pioglitazone', 'number_emergency', 'discharge_disposition_id', 'glyburide', 'number_inpatient', 'A1Cresult', 'rosiglitazone', 'insulin', 'num_lab_procedures', 'glimepiride', 'max_glu_serum', 'diag_1', 'gender', 'diabetesMed', 'admission_type_id', 'glipizide', 'number_diagnoses', 'medical_specialty', 'race'], ['time_in_hospital', 'change', 'metformin', 'num_procedures', 'admission_source_id', 'number_outpatient', 'weight', 'glyburide-metformin', 'num_medications', 'age', 'pioglitazone', 'number_emergency', 'discharge_disposition_id', 'glyburide', 'nateglinide', 'number_inpatient', 'A1Cresult', 'rosiglitazone', 'insulin', 'num_lab_procedures', 'glimepiride', 'max_glu_serum', 'diag_1', 'gender', 'diabetesMed', 'admission_type_id', 'glipizide', 'number_diagnoses', 'medical_specialty', 'race'])\n",
      "Selected Features: (0.5314341846758349, 0.46070726915520627, 0.48035363457760316, 0.48772102161100195, 0.48870333988212183, 0.4901768172888016, 0.49214145383104124, 0.5147347740667977, 0.5078585461689588, 0.5540275049115914, 0.5618860510805501, 0.5648330058939096, 0.5653241650294696, 0.5569744597249509, 0.5707269155206287, 0.5672888015717092, 0.574656188605108, 0.5618860510805501, 0.5692534381139489, 0.5702357563850687, 0.5613948919449901, 0.5702357563850687, 0.5741650294695482, 0.5736738703339882, 0.5756385068762279, 0.574656188605108, 0.5800589390962672, 0.5717092337917485, 0.5677799607072691, 0.5672888015717092)\n"
     ]
    }
   ],
   "source": [
    "print(\"Accuracy:\", selected_features)\n",
    "print(\"Selected Features:\", accuracy)"
   ]
  },
  {
   "cell_type": "code",
   "execution_count": 52,
   "metadata": {},
   "outputs": [
    {
     "data": {
      "image/png": "[encoded data removed]",
      "text/plain": [
       "<Figure size 1000x600 with 1 Axes>"
      ]
     },
     "metadata": {},
     "output_type": "display_data"
    }
   ],
   "source": [
    "# Plotting the accuracy\n",
    "plt.figure(figsize=(10, 6))\n",
    "\n",
    "plt.plot(range(1, len(accuracy) + 1), accuracy, marker='o')\n",
    "plt.xlabel('Number of Features Selected')\n",
    "plt.ylabel('Accuracy')\n",
    "plt.title('Accuracy vs Number of Features Selected')\n",
    "plt.xticks(range(1, len(accuracy) + 1))\n",
    "plt.grid(True)\n",
    "plt.show()"
   ]
  },
  {
   "cell_type": "code",
   "execution_count": 57,
   "metadata": {},
   "outputs": [
    {
     "name": "stdout",
     "output_type": "stream",
     "text": [
      "['time_in_hospital', 'change', 'metformin', 'num_procedures', 'admission_source_id', 'number_outpatient', 'num_medications', 'age', 'pioglitazone', 'number_emergency', 'discharge_disposition_id', 'glyburide', 'number_inpatient', 'A1Cresult', 'rosiglitazone', 'insulin', 'num_lab_procedures', 'glimepiride', 'max_glu_serum', 'diag_1', 'gender', 'diabetesMed', 'admission_type_id', 'glipizide', 'number_diagnoses', 'medical_specialty', 'race']\n"
     ]
    }
   ],
   "source": [
    "# Features selected at 27 features (with highest accuracy recorded)\n",
    "print(selected_features[26])"
   ]
  },
  {
   "cell_type": "code",
   "execution_count": null,
   "metadata": {},
   "outputs": [],
   "source": [
    "from sklearn.model_selection import GridSearchCV, cross_val_score\n",
    "from tqdm import tqdm\n",
    "from joblib import parallel_backend\n",
    "\n",
    "param_grid = {\n",
    "    'n_neighbors': [1, 3, 5, 7, 9],\n",
    "    'weights': ['uniform', 'distance']\n",
    "}\n",
    "\n",
    "# Create a list to store the results of grid search\n",
    "results = []\n",
    "\n",
    "# Perform grid search using cross-validation with joblib parallel processing\n",
    "with tqdm(total=len(param_grid['n_neighbors']) * len(param_grid['weights'])) as pbar:\n",
    "    with parallel_backend('loky'):\n",
    "        for n_neighbors in param_grid['n_neighbors']:\n",
    "            for weights in param_grid['weights']:\n",
    "                knn.set_params(n_neighbors=n_neighbors, weights=weights)\n",
    "                scores = cross_val_score(knn, X_train, y_train, cv=5, n_jobs=-1)\n",
    "                results.append({\n",
    "                    'n_neighbors': n_neighbors,\n",
    "                    'weights': weights,\n",
    "                    'mean_accuracy': scores.mean(),\n",
    "                    'std_accuracy': scores.std()\n",
    "                })\n",
    "                pbar.update(1)"
   ]
  },
  {
   "cell_type": "code",
   "execution_count": null,
   "metadata": {},
   "outputs": [],
   "source": [
    "# Find the best hyperparameters based on mean accuracy\n",
    "best_params = max(results, key=lambda x: x['mean_accuracy'])\n",
    "\n",
    "# Get the best model with the best hyperparameters\n",
    "best_model = KNeighborsClassifier(n_neighbors=best_params['n_neighbors'], weights=best_params['weights'])\n",
    "best_model.fit(X_train, y_train)\n",
    "\n",
    "# Evaluate the best model on the test set\n",
    "accuracy = best_model.score(X_test, y_test)\n",
    "print(\"Best hyperparameters:\", best_params)\n",
    "print(\"Best model accuracy:\", accuracy)"
   ]
  }
 ],
 "metadata": {
  "kernelspec": {
   "display_name": "base",
   "language": "python",
   "name": "python3"
  },
  "language_info": {
   "codemirror_mode": {
    "name": "ipython",
    "version": 3
   },
   "file_extension": ".py",
   "mimetype": "text/x-python",
   "name": "python",
   "nbconvert_exporter": "python",
   "pygments_lexer": "ipython3",
   "version": "3.9.13"
  },
  "orig_nbformat": 4
 },
 "nbformat": 4,
 "nbformat_minor": 2
}
