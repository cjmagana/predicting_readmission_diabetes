{
 "cells": [
  {
   "cell_type": "markdown",
   "metadata": {},
   "source": [
    "# Predicting Hospital Readmission for Diabetes Patients\n",
    "\n",
    "## Introduction\n",
    "The effective management of chronic diseases is a critical challenge in healthcare systems worldwide. Among these chronic conditions, diabetes poses a significant burden on individuals and healthcare providers due to its high prevalence and associated complications. Hospital readmission rates for diabetes patients, particularly within a short time frame, are indicative of suboptimal care coordination, disease management, and patient outcomes.\n",
    "\n",
    "The ability to accurately predict hospital readmissions for diabetes patients can play a vital role in improving patient care, optimizing healthcare resource allocation, and reducing healthcare costs. By identifying individuals at higher risk of readmission, healthcare providers can implement targeted interventions, timely follow-up care, and personalized treatment plans to minimize the likelihood of readmission and enhance patient outcomes.\n",
    "\n",
    "In this project, we aim to develop a predictive model using machine learning techniques to forecast hospital readmission for diabetes patients. By analyzing a comprehensive dataset of patient demographics, clinical variables, medications, and encounter information, we will explore the factors that contribute to readmission risk and build a robust predictive model. The project will involve data preprocessing, feature engineering, model selection, and evaluation to create a reliable tool for healthcare professionals to identify patients who may benefit from targeted interventions and proactive care management.\n",
    "\n",
    "The insights gained from this project have the potential to inform healthcare providers, policymakers, and researchers about the factors influencing hospital readmissions for diabetes patients. By harnessing the power of data-driven approaches, we can enhance the quality of care, optimize resource utilization, and ultimately improve patient outcomes in the management of diabetes."
   ]
  },
  {
   "cell_type": "markdown",
   "metadata": {},
   "source": [
    "## Scoping\n",
    "\n",
    "### Project goals\n",
    "The goal of this project is to develop a machine learning model that predicts the likelihood of hospital readmission for patients with diabetes. The model can assist healthcare providers in identifying high-risk patients and implementing proactive measures to prevent readmissions, improve patient outcomes, and optimize resource allocation.\n",
    "\n",
    "### Data\n",
    "This data comes from UCI Machine Learning Repository, \"Diabetes 130-US hospitals for years 1999-2008\" by  Clore, Krzysztof Cios, Jon DeShazo, and Beata Strack.\n",
    "\n",
    "### Analysis\n",
    "This solution will use descriptive statistics and data visualization to find key figures in understanding the distribution, count, and relationship between variables. Also, select relevant features for the prediction model using techniques such as statistical tests, correlation analysis, or domain knowledge to identify the most predictive variables. Apply machine learning algorithms (such as logistic regression, random forest, or gradient boosting) to develop a predictive model for hospital readmission.\n",
    "\n",
    "### Evaluation\n",
    " Evaluate the performance of the model using appropriate evaluation metrics such as accuracy, precision, recall, and area under the ROC curve. Assess the model's ability to correctly predict hospital readmission and its generalizability."
   ]
  },
  {
   "cell_type": "markdown",
   "metadata": {},
   "source": [
    "## Import Python Modules\n",
    "\n",
    "First import the modules being used for this project:"
   ]
  },
  {
   "cell_type": "code",
   "execution_count": 39,
   "metadata": {},
   "outputs": [],
   "source": [
    "## General libraries\n",
    "import numpy as np\n",
    "import pandas as pd\n",
    "\n",
    "from matplotlib import pyplot as plt\n",
    "import seaborn as sns"
   ]
  },
  {
   "cell_type": "markdown",
   "metadata": {},
   "source": [
    "## Loading the Data\n",
    "\n",
    "To analyze the the data, `pandas` will be used to load the dataset into a `DataFrame` so that it can be explored and visualized with Python."
   ]
  },
  {
   "cell_type": "code",
   "execution_count": 40,
   "metadata": {},
   "outputs": [
    {
     "data": {
      "text/html": [
       "<div>\n",
       "<style scoped>\n",
       "    .dataframe tbody tr th:only-of-type {\n",
       "        vertical-align: middle;\n",
       "    }\n",
       "\n",
       "    .dataframe tbody tr th {\n",
       "        vertical-align: top;\n",
       "    }\n",
       "\n",
       "    .dataframe thead th {\n",
       "        text-align: right;\n",
       "    }\n",
       "</style>\n",
       "<table border=\"1\" class=\"dataframe\">\n",
       "  <thead>\n",
       "    <tr style=\"text-align: right;\">\n",
       "      <th></th>\n",
       "      <th>encounter_id</th>\n",
       "      <th>patient_nbr</th>\n",
       "      <th>race</th>\n",
       "      <th>gender</th>\n",
       "      <th>age</th>\n",
       "      <th>weight</th>\n",
       "      <th>admission_type_id</th>\n",
       "      <th>discharge_disposition_id</th>\n",
       "      <th>admission_source_id</th>\n",
       "      <th>time_in_hospital</th>\n",
       "      <th>...</th>\n",
       "      <th>citoglipton</th>\n",
       "      <th>insulin</th>\n",
       "      <th>glyburide-metformin</th>\n",
       "      <th>glipizide-metformin</th>\n",
       "      <th>glimepiride-pioglitazone</th>\n",
       "      <th>metformin-rosiglitazone</th>\n",
       "      <th>metformin-pioglitazone</th>\n",
       "      <th>change</th>\n",
       "      <th>diabetesMed</th>\n",
       "      <th>readmitted</th>\n",
       "    </tr>\n",
       "  </thead>\n",
       "  <tbody>\n",
       "    <tr>\n",
       "      <th>0</th>\n",
       "      <td>2278392</td>\n",
       "      <td>8222157</td>\n",
       "      <td>Caucasian</td>\n",
       "      <td>Female</td>\n",
       "      <td>[0-10)</td>\n",
       "      <td>?</td>\n",
       "      <td>6</td>\n",
       "      <td>25</td>\n",
       "      <td>1</td>\n",
       "      <td>1</td>\n",
       "      <td>...</td>\n",
       "      <td>No</td>\n",
       "      <td>No</td>\n",
       "      <td>No</td>\n",
       "      <td>No</td>\n",
       "      <td>No</td>\n",
       "      <td>No</td>\n",
       "      <td>No</td>\n",
       "      <td>No</td>\n",
       "      <td>No</td>\n",
       "      <td>NO</td>\n",
       "    </tr>\n",
       "    <tr>\n",
       "      <th>1</th>\n",
       "      <td>149190</td>\n",
       "      <td>55629189</td>\n",
       "      <td>Caucasian</td>\n",
       "      <td>Female</td>\n",
       "      <td>[10-20)</td>\n",
       "      <td>?</td>\n",
       "      <td>1</td>\n",
       "      <td>1</td>\n",
       "      <td>7</td>\n",
       "      <td>3</td>\n",
       "      <td>...</td>\n",
       "      <td>No</td>\n",
       "      <td>Up</td>\n",
       "      <td>No</td>\n",
       "      <td>No</td>\n",
       "      <td>No</td>\n",
       "      <td>No</td>\n",
       "      <td>No</td>\n",
       "      <td>Ch</td>\n",
       "      <td>Yes</td>\n",
       "      <td>&gt;30</td>\n",
       "    </tr>\n",
       "    <tr>\n",
       "      <th>2</th>\n",
       "      <td>64410</td>\n",
       "      <td>86047875</td>\n",
       "      <td>AfricanAmerican</td>\n",
       "      <td>Female</td>\n",
       "      <td>[20-30)</td>\n",
       "      <td>?</td>\n",
       "      <td>1</td>\n",
       "      <td>1</td>\n",
       "      <td>7</td>\n",
       "      <td>2</td>\n",
       "      <td>...</td>\n",
       "      <td>No</td>\n",
       "      <td>No</td>\n",
       "      <td>No</td>\n",
       "      <td>No</td>\n",
       "      <td>No</td>\n",
       "      <td>No</td>\n",
       "      <td>No</td>\n",
       "      <td>No</td>\n",
       "      <td>Yes</td>\n",
       "      <td>NO</td>\n",
       "    </tr>\n",
       "    <tr>\n",
       "      <th>3</th>\n",
       "      <td>500364</td>\n",
       "      <td>82442376</td>\n",
       "      <td>Caucasian</td>\n",
       "      <td>Male</td>\n",
       "      <td>[30-40)</td>\n",
       "      <td>?</td>\n",
       "      <td>1</td>\n",
       "      <td>1</td>\n",
       "      <td>7</td>\n",
       "      <td>2</td>\n",
       "      <td>...</td>\n",
       "      <td>No</td>\n",
       "      <td>Up</td>\n",
       "      <td>No</td>\n",
       "      <td>No</td>\n",
       "      <td>No</td>\n",
       "      <td>No</td>\n",
       "      <td>No</td>\n",
       "      <td>Ch</td>\n",
       "      <td>Yes</td>\n",
       "      <td>NO</td>\n",
       "    </tr>\n",
       "    <tr>\n",
       "      <th>4</th>\n",
       "      <td>16680</td>\n",
       "      <td>42519267</td>\n",
       "      <td>Caucasian</td>\n",
       "      <td>Male</td>\n",
       "      <td>[40-50)</td>\n",
       "      <td>?</td>\n",
       "      <td>1</td>\n",
       "      <td>1</td>\n",
       "      <td>7</td>\n",
       "      <td>1</td>\n",
       "      <td>...</td>\n",
       "      <td>No</td>\n",
       "      <td>Steady</td>\n",
       "      <td>No</td>\n",
       "      <td>No</td>\n",
       "      <td>No</td>\n",
       "      <td>No</td>\n",
       "      <td>No</td>\n",
       "      <td>Ch</td>\n",
       "      <td>Yes</td>\n",
       "      <td>NO</td>\n",
       "    </tr>\n",
       "  </tbody>\n",
       "</table>\n",
       "<p>5 rows × 50 columns</p>\n",
       "</div>"
      ],
      "text/plain": [
       "   encounter_id  patient_nbr             race  gender      age weight  \\\n",
       "0       2278392      8222157        Caucasian  Female   [0-10)      ?   \n",
       "1        149190     55629189        Caucasian  Female  [10-20)      ?   \n",
       "2         64410     86047875  AfricanAmerican  Female  [20-30)      ?   \n",
       "3        500364     82442376        Caucasian    Male  [30-40)      ?   \n",
       "4         16680     42519267        Caucasian    Male  [40-50)      ?   \n",
       "\n",
       "   admission_type_id  discharge_disposition_id  admission_source_id  \\\n",
       "0                  6                        25                    1   \n",
       "1                  1                         1                    7   \n",
       "2                  1                         1                    7   \n",
       "3                  1                         1                    7   \n",
       "4                  1                         1                    7   \n",
       "\n",
       "   time_in_hospital  ... citoglipton insulin  glyburide-metformin  \\\n",
       "0                 1  ...          No      No                   No   \n",
       "1                 3  ...          No      Up                   No   \n",
       "2                 2  ...          No      No                   No   \n",
       "3                 2  ...          No      Up                   No   \n",
       "4                 1  ...          No  Steady                   No   \n",
       "\n",
       "   glipizide-metformin  glimepiride-pioglitazone  metformin-rosiglitazone  \\\n",
       "0                   No                        No                       No   \n",
       "1                   No                        No                       No   \n",
       "2                   No                        No                       No   \n",
       "3                   No                        No                       No   \n",
       "4                   No                        No                       No   \n",
       "\n",
       "   metformin-pioglitazone  change diabetesMed readmitted  \n",
       "0                      No      No          No         NO  \n",
       "1                      No      Ch         Yes        >30  \n",
       "2                      No      No         Yes         NO  \n",
       "3                      No      Ch         Yes         NO  \n",
       "4                      No      Ch         Yes         NO  \n",
       "\n",
       "[5 rows x 50 columns]"
      ]
     },
     "execution_count": 40,
     "metadata": {},
     "output_type": "execute_result"
    }
   ],
   "source": [
    "df = pd.read_csv('diabetic_data.csv')\n",
    "df.head()"
   ]
  },
  {
   "cell_type": "markdown",
   "metadata": {},
   "source": [
    "#### Data Characteristics\n",
    "\n",
    "The dataset represents 10 years (1999-2008) of clinical care at 130 US hospitals and integrated delivery networks. It includes over 50 features representing patient and hospital outcomes. Information was extracted from the database for encounters that satisfied the following criteria.\n",
    "\n",
    "1.\tIt is an inpatient encounter (a hospital admission).\n",
    "2.\tIt is a diabetic encounter, that is, one during which any kind of diabetes was entered to the system as a diagnosis.\n",
    "3.\tThe length of stay was at least 1 day and at most 14 days.\n",
    "4.\tLaboratory tests were performed during the encounter.\n",
    "5.\tMedications were administered during the encounter.\n",
    "\n",
    "The data contains such attributes as patient number, race, gender, age, admission type, time in hospital, medical specialty of admitting physician, number of lab test performed, HbA1c test result, diagnosis, number of medication, diabetic medications, number of outpatient, inpatient, and emergency visits in the year before the hospitalization, etc."
   ]
  },
  {
   "cell_type": "markdown",
   "metadata": {},
   "source": [
    "The columns in the dataset include: \n",
    "\n",
    "- **encounter_id:** Unique identifier of an encounter\n",
    "- **patient_nbr:** Unique identifier of a patient\n",
    "- **race:** Values: `Caucasian`, `Asian`, `African American`, `Hispanic`, and `other`\n",
    "- **gender:** Values: `male`, `female`, and `unknown/invalid`\n",
    "- **age:** Grouped in 10-year intervals: `[0, 10)`, `[10, 20)`,..., `[90, 100)`\n",
    "- **weight:** Weight in pounds, separated by intervals like `'[0-25)'`, `'[25-50)'`,..., `'>200'`\n",
    "- **admission_type_id:** Integer identifier corresponding to 9 distinct values, for example, `emergency`, `urgent`, `elective`, `newborn`, and `not available`\n",
    "- **discharge_disposition_id:** Integer identifier corresponding to 29 distinct values, for example, `discharged to home`, `expired`, and `not available`\n",
    "- **admission_source_id:** Integer identifier corresponding to 21 distinct values, for example, `physician referral`, `emergency room`, and `transfer from a hospital`\n",
    "- **time_in_hospital:** Integer number of days between admission and discharge\n",
    "  \n",
    "- **payer_code:** Integer identifier corresponding to 23 distinct values, for example, `Blue Cross/Blue Shield`, `Medicare`, and `self-pay`\n",
    "- **medical_specialty:** Integer identifier of a specialty of the admitting physician, corresponding to 84 distinct values, for example, `cardiology`, `internal medicine`, `family/general practice`, and `surgeon`\n",
    "- **num_lab_procedures:** Number of lab tests performed during the encounter\n",
    "- **num_procedures:** Number of procedures (other than lab tests) performed during the encounter\n",
    "- **num_medications:** Number of distinct generic names administered during the encounter\n",
    "- **number_outpatient:** Number of outpatient visits of the patient in the year preceding the encounter\n",
    "- **number_emergency:** Number of emergency visits of the patient in the year preceding the encounter\n",
    "- **number_inpatient:** Number of inpatient visits of the patient in the year preceding the encounter\n",
    "- **diag_1:** The primary diagnosis (coded as first three digits of ICD9); 848 distinct values\n",
    "- **diag_2:** Secondary diagnosis (coded as first three digits of ICD9); 923 distinct values\n",
    "- **diag_3:** Additional secondary diagnosis (coded as first three digits of ICD9); 954 distinct values\n",
    "- **number_diagnoses:** Number of diagnoses entered to the system\n",
    "- **max_glu_serum:** Indicates the range of the result or if the test was not taken. Values: `>200`, `>300`, `normal`, and `none` if not measured\n",
    "- **A1Cresult:** Indicates the range of the result or if the test was not taken. Values: `>8` if the result was greater than 8%, `>7` if the result was greater than 7% but less than 8%, `normal` if the result was less than 7%, and `none` if not measured"
   ]
  },
  {
   "cell_type": "markdown",
   "metadata": {},
   "source": [
    "For these features, they have the same description:\n",
    "\n",
    "'The feature indicates whether the drug was prescribed or there was a change in the dosage. Values: `up` if the dosage was increased during the encounter, `down` if the dosage was decreased, `steady` if the dosage did not change, and `no` if the drug was not prescribed'\n",
    "\n",
    "- **metformin** \n",
    "- **repaglinide** \n",
    "- **nateglinide**\n",
    "- **chlorpropamide**\n",
    "- **glimepiride**\n",
    "- **acetohexamide**\n",
    "- **glipizide**\n",
    "- **glyburide**\n",
    "- **tolbutamide**\n",
    "- **pioglitazone**\n",
    "- **rosiglitazone**\n",
    "- **acarbose**\n",
    "- **miglitol**\n",
    "- **troglitazone**\n",
    "- **tolazamide**\n",
    "- **examide**\n",
    "- **citoglipton**\n",
    "- **insulin**\n",
    "- **glyburide.metformin**\n",
    "- **glipizide.metformin**\n",
    "- **glimepiride.pioglitazone**\n",
    "- **metformin.rosiglitazone**\n",
    "- **metformin.pioglitazone**\n",
    "\n",
    "(End of identical descriptions)"
   ]
  },
  {
   "cell_type": "markdown",
   "metadata": {},
   "source": [
    "- **change:** Indicates if there was a change in diabetic medications (either dosage or generic name). Values: `change` and `no change`\n",
    "- **diabetesMed:** Indicates if there was any diabetic medication prescribed. Values: `yes` and `no`\n",
    "- **readmitted:** Days to inpatient readmission. Values: `<30` if the patient was readmitted in less than 30 days, `>30` if the patient was readmitted in more than 30 days, and `No` for no record of readmission."
   ]
  },
  {
   "cell_type": "markdown",
   "metadata": {},
   "source": [
    "This is some additional information on `ID`s for certain features.\n",
    "\n",
    "**admission_type_id**:\n",
    "  - 1: Emergency\n",
    "  - 2: Urgent\n",
    "  - 3: Elective\n",
    "  - 4: Newborn\n",
    "  - 5: Not Available\n",
    "  - 6: NULL\n",
    "  - 7: Trauma Center\n",
    "  - 8: Not Mapped\n",
    "  \n",
    "**discharge_disposition_id**\n",
    "  - 1: Discharged to home\n",
    "  - 2: Discharged/transferred to another short term hospital\n",
    "  - 3: Discharged/transferred to SNF\n",
    "  - 4: Discharged/transferred to ICF\n",
    "  - 5: Discharged/transferred to another type of inpatient care institution\n",
    "  - 6: Discharged/transferred to home with home health service\n",
    "  - 7: Left AMA\n",
    "  - 8: Discharged/transferred to home under care of Home IV provider\n",
    "  - 9: Admitted as an inpatient to this hospital\n",
    "  - 10: Neonate discharged to another hospital for neonatal aftercare\n",
    "  - 11: Expired\n",
    "  - 12: Still patient or expected to return for outpatient services\n",
    "  - 13: Hospice / home\n",
    "  - 14: Hospice / medical facility\n",
    "  - 15: Discharged/transferred within this institution to Medicare approved swing bed\n",
    "  - 16: Discharged/transferred/referred another institution for outpatient services\n",
    "  - 17: Discharged/transferred/referred to this institution for outpatient services\n",
    "  - 18: NULL\n",
    "  - 19: \"Expired at home. Medicaid only, hospice.\"\n",
    "  - 20: \"Expired in a medical facility. Medicaid only, hospice.\"\n",
    "  - 21: \"Expired, place unknown. Medicaid only, hospice.\"\n",
    "  - 22: Discharged/transferred to another rehab fac including rehab units of a hospital.\n",
    "  - 23: Discharged/transferred to a long term care hospital.\n",
    "  - 24: Discharged/transferred to a nursing facility certified under Medicaid but not certified under Medicare.\n",
    "  - 25: Not Mapped\n",
    "  - 26: Unknown/Invalid\n",
    "  - 27: Discharged/transferred to a federal health care facility.\n",
    "  - 28: Discharged/transferred/referred to a psychiatric hospital of psychiatric distinct part unit of a hospital\n",
    "  - 29: Discharged/transferred to a Critical Access Hospital (CAH).\n",
    "  - 30: Discharged/transferred to another Type of Health Care Institution not Defined Elsewhere\n",
    "\n",
    "**admission_source_id**\n",
    "  - 1: Physician Referral\n",
    "  - 2: Clinic Referral\n",
    "  - 3: HMO Referral\n",
    "  - 4: Transfer from a hospital\n",
    "  - 5: Transfer from a Skilled Nursing Facility (SNF)\n",
    "  - 6: Transfer from another health care facility\n",
    "  - 7: Emergency Room\n",
    "  - 8: Court/Law Enforcement\n",
    "  - 9: Not Available\n",
    "  - 10: Transfer from critial access hospital\n",
    "  - 11: Normal Delivery\n",
    "  - 12: Premature Delivery\n",
    "  - 13: Sick Baby\n",
    "  - 14: Extramural Birth\n",
    "  - 15: Not Available\n",
    "  - 17: NULL\n",
    "  - 18: Transfer From Another Home Health Agency\n",
    "  - 19: Readmission to Same Home Health Agency\n",
    "  - 20: Not Mapped\n",
    "  - 21: Unknown/Invalid\n",
    "  - 22: Transfer from hospital inpt/same fac reslt in a sep claim\n",
    "  - 23: Born inside this hospital\n",
    "  - 24: Born outside this hospital\n",
    "  - 25: Transfer from Ambulatory Surgery Center\n",
    "  - 26: Transfer from Hospice"
   ]
  },
  {
   "cell_type": "markdown",
   "metadata": {},
   "source": [
    "## Explore the Data\n",
    "\n",
    "First we want to look for missing data. We can use `.dtypes()` to return the data types of each column in the DataFrame `df`."
   ]
  },
  {
   "cell_type": "code",
   "execution_count": 41,
   "metadata": {},
   "outputs": [
    {
     "data": {
      "text/plain": [
       "encounter_id                 int64\n",
       "patient_nbr                  int64\n",
       "race                        object\n",
       "gender                      object\n",
       "age                         object\n",
       "weight                      object\n",
       "admission_type_id            int64\n",
       "discharge_disposition_id     int64\n",
       "admission_source_id          int64\n",
       "time_in_hospital             int64\n",
       "payer_code                  object\n",
       "medical_specialty           object\n",
       "num_lab_procedures           int64\n",
       "num_procedures               int64\n",
       "num_medications              int64\n",
       "number_outpatient            int64\n",
       "number_emergency             int64\n",
       "number_inpatient             int64\n",
       "diag_1                      object\n",
       "diag_2                      object\n",
       "diag_3                      object\n",
       "number_diagnoses             int64\n",
       "max_glu_serum               object\n",
       "A1Cresult                   object\n",
       "metformin                   object\n",
       "repaglinide                 object\n",
       "nateglinide                 object\n",
       "chlorpropamide              object\n",
       "glimepiride                 object\n",
       "acetohexamide               object\n",
       "glipizide                   object\n",
       "glyburide                   object\n",
       "tolbutamide                 object\n",
       "pioglitazone                object\n",
       "rosiglitazone               object\n",
       "acarbose                    object\n",
       "miglitol                    object\n",
       "troglitazone                object\n",
       "tolazamide                  object\n",
       "examide                     object\n",
       "citoglipton                 object\n",
       "insulin                     object\n",
       "glyburide-metformin         object\n",
       "glipizide-metformin         object\n",
       "glimepiride-pioglitazone    object\n",
       "metformin-rosiglitazone     object\n",
       "metformin-pioglitazone      object\n",
       "change                      object\n",
       "diabetesMed                 object\n",
       "readmitted                  object\n",
       "dtype: object"
      ]
     },
     "execution_count": 41,
     "metadata": {},
     "output_type": "execute_result"
    }
   ],
   "source": [
    "df.dtypes"
   ]
  },
  {
   "cell_type": "markdown",
   "metadata": {},
   "source": [
    "There are a lot of columns with object types which typically represents string values in pandas. This could also indicate a mixture of strings, integers, or NULLs in the columns. Let's check for missing data first using `.isnull()`"
   ]
  },
  {
   "cell_type": "code",
   "execution_count": 42,
   "metadata": {},
   "outputs": [
    {
     "data": {
      "text/plain": [
       "encounter_id                0\n",
       "patient_nbr                 0\n",
       "race                        0\n",
       "gender                      0\n",
       "age                         0\n",
       "weight                      0\n",
       "admission_type_id           0\n",
       "discharge_disposition_id    0\n",
       "admission_source_id         0\n",
       "time_in_hospital            0\n",
       "payer_code                  0\n",
       "medical_specialty           0\n",
       "num_lab_procedures          0\n",
       "num_procedures              0\n",
       "num_medications             0\n",
       "number_outpatient           0\n",
       "number_emergency            0\n",
       "number_inpatient            0\n",
       "diag_1                      0\n",
       "diag_2                      0\n",
       "diag_3                      0\n",
       "number_diagnoses            0\n",
       "max_glu_serum               0\n",
       "A1Cresult                   0\n",
       "metformin                   0\n",
       "repaglinide                 0\n",
       "nateglinide                 0\n",
       "chlorpropamide              0\n",
       "glimepiride                 0\n",
       "acetohexamide               0\n",
       "glipizide                   0\n",
       "glyburide                   0\n",
       "tolbutamide                 0\n",
       "pioglitazone                0\n",
       "rosiglitazone               0\n",
       "acarbose                    0\n",
       "miglitol                    0\n",
       "troglitazone                0\n",
       "tolazamide                  0\n",
       "examide                     0\n",
       "citoglipton                 0\n",
       "insulin                     0\n",
       "glyburide-metformin         0\n",
       "glipizide-metformin         0\n",
       "glimepiride-pioglitazone    0\n",
       "metformin-rosiglitazone     0\n",
       "metformin-pioglitazone      0\n",
       "change                      0\n",
       "diabetesMed                 0\n",
       "readmitted                  0\n",
       "dtype: int64"
      ]
     },
     "execution_count": 42,
     "metadata": {},
     "output_type": "execute_result"
    }
   ],
   "source": [
    "df.isnull().sum()"
   ]
  },
  {
   "cell_type": "markdown",
   "metadata": {},
   "source": [
    "There is no missing data values, so it still could be a mixture of strings and integers. Let's take a closer look at the first `object` type column `race`."
   ]
  },
  {
   "cell_type": "code",
   "execution_count": 43,
   "metadata": {},
   "outputs": [
    {
     "data": {
      "text/plain": [
       "array(['Caucasian', 'AfricanAmerican', '?', 'Other', 'Asian', 'Hispanic'],\n",
       "      dtype=object)"
      ]
     },
     "execution_count": 43,
     "metadata": {},
     "output_type": "execute_result"
    }
   ],
   "source": [
    "df.race.unique()"
   ]
  },
  {
   "cell_type": "markdown",
   "metadata": {},
   "source": [
    "Looks to be just strings in here, although later we will address the `'?'` value in the `race` column. Let's try to look at a few more to make sure there isn't anything to take care of."
   ]
  },
  {
   "cell_type": "code",
   "execution_count": 44,
   "metadata": {},
   "outputs": [
    {
     "data": {
      "text/plain": [
       "array(['?', '[75-100)', '[50-75)', '[0-25)', '[100-125)', '[25-50)',\n",
       "       '[125-150)', '[175-200)', '[150-175)', '>200'], dtype=object)"
      ]
     },
     "execution_count": 44,
     "metadata": {},
     "output_type": "execute_result"
    }
   ],
   "source": [
    "df.weight.unique()"
   ]
  },
  {
   "cell_type": "code",
   "execution_count": 45,
   "metadata": {},
   "outputs": [
    {
     "data": {
      "text/plain": [
       "array(['Pediatrics-Endocrinology', '?', 'InternalMedicine',\n",
       "       'Family/GeneralPractice', 'Cardiology', 'Surgery-General',\n",
       "       'Orthopedics', 'Gastroenterology',\n",
       "       'Surgery-Cardiovascular/Thoracic', 'Nephrology',\n",
       "       'Orthopedics-Reconstructive', 'Psychiatry', 'Emergency/Trauma',\n",
       "       'Pulmonology', 'Surgery-Neuro',\n",
       "       'Obsterics&Gynecology-GynecologicOnco', 'ObstetricsandGynecology',\n",
       "       'Pediatrics', 'Hematology/Oncology', 'Otolaryngology',\n",
       "       'Surgery-Colon&Rectal', 'Pediatrics-CriticalCare', 'Endocrinology',\n",
       "       'Urology', 'Psychiatry-Child/Adolescent', 'Pediatrics-Pulmonology',\n",
       "       'Neurology', 'Anesthesiology-Pediatric', 'Radiology',\n",
       "       'Pediatrics-Hematology-Oncology', 'Psychology', 'Podiatry',\n",
       "       'Gynecology', 'Oncology', 'Pediatrics-Neurology',\n",
       "       'Surgery-Plastic', 'Surgery-Thoracic',\n",
       "       'Surgery-PlasticwithinHeadandNeck', 'Ophthalmology',\n",
       "       'Surgery-Pediatric', 'Pediatrics-EmergencyMedicine',\n",
       "       'PhysicalMedicineandRehabilitation', 'InfectiousDiseases',\n",
       "       'Anesthesiology', 'Rheumatology', 'AllergyandImmunology',\n",
       "       'Surgery-Maxillofacial', 'Pediatrics-InfectiousDiseases',\n",
       "       'Pediatrics-AllergyandImmunology', 'Dentistry', 'Surgeon',\n",
       "       'Surgery-Vascular', 'Osteopath', 'Psychiatry-Addictive',\n",
       "       'Surgery-Cardiovascular', 'PhysicianNotFound', 'Hematology',\n",
       "       'Proctology', 'Obstetrics', 'SurgicalSpecialty', 'Radiologist',\n",
       "       'Pathology', 'Dermatology', 'SportsMedicine', 'Speech',\n",
       "       'Hospitalist', 'OutreachServices', 'Cardiology-Pediatric',\n",
       "       'Perinatology', 'Neurophysiology', 'Endocrinology-Metabolism',\n",
       "       'DCPTEAM', 'Resident'], dtype=object)"
      ]
     },
     "execution_count": 45,
     "metadata": {},
     "output_type": "execute_result"
    }
   ],
   "source": [
    "df.medical_specialty.unique()"
   ]
  },
  {
   "cell_type": "code",
   "execution_count": 46,
   "metadata": {},
   "outputs": [
    {
     "data": {
      "text/plain": [
       "array(['250.83', '276', '648', '8', '197', '414', '428', '398', '434',\n",
       "       '250.7', '157', '518', '999', '410', '682', '402', '737', '572',\n",
       "       'V57', '189', '786', '427', '996', '277', '584', '462', '473',\n",
       "       '411', '174', '486', '998', '511', '432', '626', '295', '196',\n",
       "       '250.6', '618', '182', '845', '423', '808', '250.4', '722', '403',\n",
       "       '250.11', '784', '707', '440', '151', '715', '997', '198', '564',\n",
       "       '812', '38', '590', '556', '578', '250.32', '433', 'V58', '569',\n",
       "       '185', '536', '255', '250.13', '599', '558', '574', '491', '560',\n",
       "       '244', '250.03', '577', '730', '188', '824', '250.8', '332', '562',\n",
       "       '291', '296', '510', '401', '263', '438', '70', '250.02', '493',\n",
       "       '642', '625', '571', '738', '593', '250.42', '807', '456', '446',\n",
       "       '575', '250.41', '820', '515', '780', '250.22', '995', '235',\n",
       "       '250.82', '721', '787', '162', '724', '282', '514', 'V55', '281',\n",
       "       '250.33', '530', '466', '435', '250.12', 'V53', '789', '566',\n",
       "       '822', '191', '557', '733', '455', '711', '482', '202', '280',\n",
       "       '553', '225', '154', '441', '250.81', '349', '?', '962', '592',\n",
       "       '507', '386', '156', '200', '728', '348', '459', '426', '388',\n",
       "       '607', '337', '82', '531', '596', '288', '656', '573', '492',\n",
       "       '220', '516', '210', '922', '286', '885', '958', '661', '969',\n",
       "       '250.93', '227', '112', '404', '823', '532', '416', '346', '535',\n",
       "       '453', '250', '595', '211', '303', '250.01', '852', '218', '782',\n",
       "       '540', '457', '285', '431', '340', '550', '54', '351', '601',\n",
       "       '723', '555', '153', '443', '380', '204', '424', '241', '358',\n",
       "       '694', '331', '345', '681', '447', '290', '158', '579', '436',\n",
       "       '335', '309', '654', '805', '799', '292', '183', '78', '851',\n",
       "       '458', '586', '311', '892', '305', '293', '415', '591', '794',\n",
       "       '803', '79', '655', '429', '278', '658', '598', '729', '585',\n",
       "       '444', '604', '727', '214', '552', '284', '680', '708', '41',\n",
       "       '644', '481', '821', '413', '437', '968', '756', '632', '359',\n",
       "       '275', '512', '781', '420', '368', '522', '294', '825', '135',\n",
       "       '304', '320', '250.31', '669', '868', '496', '250.43', '826',\n",
       "       '567', '3', '203', '53', '251', '565', '161', '495', '49', '250.1',\n",
       "       '297', '663', '576', '355', '850', '287', '250.2', '611', '840',\n",
       "       '350', '726', '537', '620', '180', '366', '783', '11', '751',\n",
       "       '716', '250.3', '199', '464', '580', '836', '664', '283', '813',\n",
       "       '966', '289', '965', '184', '480', '608', '333', '972', '212',\n",
       "       '117', '788', '924', '959', '621', '238', '785', '714', '942',\n",
       "       '250.23', '710', '47', '933', '508', '478', '844', '7', '736',\n",
       "       '233', '42', '250.5', '397', '395', '201', '421', '253', '250.92',\n",
       "       '600', '494', '977', '39', '659', '312', '614', '647', '652',\n",
       "       '646', '274', '861', '425', '527', '451', '485', '217', '250.53',\n",
       "       '442', '970', '193', '160', '322', '581', '475', '623', '374',\n",
       "       '582', '568', '465', '801', '237', '376', '150', '461', '913',\n",
       "       '226', '617', '987', '641', '298', '790', '336', '362', '228',\n",
       "       '513', '383', '746', '353', '911', '506', '873', '155', '860',\n",
       "       '534', '802', '141', 'V45', '396', '310', '341', '242', '719',\n",
       "       '239', '533', '616', '519', '301', 'V66', '5', '989', '230', '385',\n",
       "       '300', '853', '871', '570', '848', '463', '9', '934', '250.21',\n",
       "       '236', '361', '594', '501', '810', '643', '430', '528', '205',\n",
       "       '791', '983', '992', '490', '172', '171', '622', '306', '863',\n",
       "       '864', '474', '660', '759', '356', '634', '967', '551', '695',\n",
       "       '187', '732', '747', '323', '308', '370', '252', '152', '846',\n",
       "       '164', '365', '718', '48', '266', '720', '94', '344', '797', '170',\n",
       "       '878', '904', 'V56', '882', '843', '709', '973', '454', '686',\n",
       "       '939', '487', '229', '991', '483', '357', '692', '796', '693',\n",
       "       '935', '936', '800', '920', 'V26', '261', '307', '262', '250.9',\n",
       "       '831', '145', '223', 'V71', '839', '685', 'V54', '35', '34', '179',\n",
       "       '964', '136', '324', '389', '815', '334', '143', '526', '588',\n",
       "       '192', 'V67', '394', '917', '88', '219', '325', '792', '717',\n",
       "       '994', '990', '793', '207', '637', '195', '373', '847', '827',\n",
       "       '31', '891', '814', 'V60', '703', '865', '352', '627', '378',\n",
       "       '342', '886', '369', '745', '705', '816', '541', '986', '610',\n",
       "       '633', '640', '753', '173', '835', '379', '445', '272', '382',\n",
       "       '945', '619', '881', '250.52', '866', '405', '916', '215', '893',\n",
       "       '75', '671', '928', '906', '897', '725', '867', '115', '890',\n",
       "       '734', '521', '674', '470', '834', '146', '696', '524', '980',\n",
       "       '691', '384', '142', '879', '250.51', '246', '208', '448', '955',\n",
       "       '653', '149', '245', '735', '883', '854', '952', '838', '194',\n",
       "       'V43', '163', '216', '147', '354', '27', '477', '318', '880',\n",
       "       '921', '377', '471', '683', '175', '602', '250.91', '982', '706',\n",
       "       '375', '417', '131', '347', '870', '148', '862', '61', '817',\n",
       "       '914', '360', '684', '314', 'V63', '36', '57', '240', '915', '971',\n",
       "       '795', '988', '452', '963', '327', '731', '842', 'V25', '645',\n",
       "       '665', '110', '944', '603', '923', '412', '363', '957', '976',\n",
       "       '698', '299', '700', '273', '974', '97', '529', '66', '98', '605',\n",
       "       '941', '52', '806', '84', '271', '837', '657', '895', '338', '523',\n",
       "       '542', '114', '543', '372', 'V70', 'E909', '583', 'V07', '422',\n",
       "       '615', '279', '500', '903', '919', '875', '381', '804', '704',\n",
       "       '23', '58', '649', '832', '133', '975', '833', '391', '690', '10',\n",
       "       'V51'], dtype=object)"
      ]
     },
     "execution_count": 46,
     "metadata": {},
     "output_type": "execute_result"
    }
   ],
   "source": [
    "df.diag_1.unique()"
   ]
  },
  {
   "cell_type": "code",
   "execution_count": 47,
   "metadata": {},
   "outputs": [
    {
     "data": {
      "text/plain": [
       "array(['No', 'Up', 'Steady', 'Down'], dtype=object)"
      ]
     },
     "execution_count": 47,
     "metadata": {},
     "output_type": "execute_result"
    }
   ],
   "source": [
    "df.insulin.unique()"
   ]
  },
  {
   "cell_type": "code",
   "execution_count": 48,
   "metadata": {},
   "outputs": [
    {
     "data": {
      "text/plain": [
       "array(['NO', '>30', '<30'], dtype=object)"
      ]
     },
     "execution_count": 48,
     "metadata": {},
     "output_type": "execute_result"
    }
   ],
   "source": [
    "df.readmitted.unique()"
   ]
  },
  {
   "cell_type": "markdown",
   "metadata": {},
   "source": [
    "Looks to be just strings in `object` labeled columns, although there is `'?'s` for presumptively missing data in place of `NULL`s. "
   ]
  },
  {
   "cell_type": "markdown",
   "metadata": {},
   "source": [
    "#### Race and Readmittance\n",
    "\n",
    "Let's take a peek at some of the relationship between some of these columns with the `'readmitted'` column."
   ]
  },
  {
   "cell_type": "code",
   "execution_count": 49,
   "metadata": {},
   "outputs": [
    {
     "data": {
      "image/png": "[encoded data removed]",
      "text/plain": [
       "<Figure size 640x480 with 1 Axes>"
      ]
     },
     "metadata": {},
     "output_type": "display_data"
    }
   ],
   "source": [
    "# Setup data for plotting\n",
    "race_readmitted = df.groupby(['race', 'readmitted']).size().unstack()\n",
    "\n",
    "# Plot the grouped bar plot\n",
    "race_readmitted.plot(kind='bar', stacked=False)\n",
    "\n",
    "# Add labels and title\n",
    "plt.xlabel('Race')\n",
    "plt.ylabel('Count')\n",
    "plt.title('Readmission Status by Race')\n",
    "\n",
    "plt.xticks(rotation=45)\n",
    "\n",
    "# Display the plot\n",
    "plt.show()"
   ]
  },
  {
   "cell_type": "markdown",
   "metadata": {},
   "source": [
    "As a reminder of the keys for `readmitted`:\n",
    "\n",
    "- `<30` if the patient was readmitted in less than 30 days\n",
    "- `>30` if the patient was readmitted in more than 30 days\n",
    "- `NO` for no record of readmission."
   ]
  },
  {
   "cell_type": "code",
   "execution_count": 66,
   "metadata": {},
   "outputs": [
    {
     "data": {
      "image/png": "[encoded data removed]",
      "text/plain": [
       "<Figure size 640x480 with 1 Axes>"
      ]
     },
     "metadata": {},
     "output_type": "display_data"
    }
   ],
   "source": [
    "# Calculate the total count of all categories\n",
    "total_count = df.groupby('readmitted').size().sum()\n",
    "\n",
    "# Setup data for plotting\n",
    "race_readmitted = df.groupby(['race', 'readmitted']).size().unstack()\n",
    "\n",
    "# Calculate the overall proportion by dividing each count by the total count of all categories\n",
    "proportion_race_readmitted = race_readmitted.div(total_count) * 100\n",
    "\n",
    "# Plot the grouped bar plot\n",
    "ax = proportion_race_readmitted.plot(kind='bar', stacked=True)\n",
    "\n",
    "# Add labels and title\n",
    "ax.set_xlabel('Race')\n",
    "ax.set_ylabel('Percentage')\n",
    "ax.set_title('Readmission Status by Race')\n",
    "\n",
    "# Rotate x-axis labels\n",
    "ax.set_xticklabels(ax.get_xticklabels(), rotation=45)\n",
    "\n",
    "# Add y-axis grids\n",
    "ax.yaxis.grid(True, linestyle='--', zorder=0)\n",
    "\n",
    "# Display the plot\n",
    "plt.show()"
   ]
  },
  {
   "cell_type": "markdown",
   "metadata": {},
   "source": [
    "Something that seems off is the proportion of `Hispanic` in the Dataset. According to the [U.S. Census July 1, 2022](https://www.census.gov/quickfacts/fact/table/US/PST045222), the `Hispanic` proportion is 19.1%, `Asian` alone is 6.3%, `African American` is 13.6%, and `White` is 58.9%. The discrepancy with this Dataset could be a few things, one being, for example, that people who are both `Hispanic` and `Caucasian` were labeled as just `Caucasian`. Another possibility is that `Hispanic` people are not using healthcare services as much as there counterparts. Another cause could be that `Hispanic` people don't suffer as much with Diabetes compared to other Races, although given the numbers from [diabetes.org](https://diabetes.org/about-us/statistics/about-diabetes), that doesn't seem to be the case. Similar arguments could be made for the `Asian` demographic.\n",
    "\n",
    "This [article](https://www.kff.org/coronavirus-covid-19/poll-finding/health-and-health-care-experiences-of-hispanic-adults/) might shed some light on the issue. The conclusion is these findings show that, consistent with research from prior to the pandemic, `Hispanic` adults are more likely to be uninsured than their `Caucasian` counterparts. They also are less likely to have a usual source of care other than an emergency room and to rely on community health centers as their source of care."
   ]
  },
  {
   "cell_type": "markdown",
   "metadata": {},
   "source": [
    "#### Weight and Readmittance\n",
    "\n",
    "Let's take a look at weight and readmittance of patients with Diabetes."
   ]
  },
  {
   "cell_type": "code",
   "execution_count": 68,
   "metadata": {},
   "outputs": [
    {
     "data": {
      "image/png": "[encoded data removed]",
      "text/plain": [
       "<Figure size 640x480 with 1 Axes>"
      ]
     },
     "metadata": {},
     "output_type": "display_data"
    }
   ],
   "source": [
    "# Setup data for plotting\n",
    "race_readmitted = df.groupby(['weight', 'readmitted']).size().unstack()\n",
    "\n",
    "# Plot the grouped bar plot\n",
    "race_readmitted.plot(kind='bar', stacked=False)\n",
    "\n",
    "# Add labels and title\n",
    "plt.xlabel('Weight')\n",
    "plt.ylabel('Count')\n",
    "plt.title('Readmission Status by Weight')\n",
    "\n",
    "plt.xticks(rotation=45)\n",
    "\n",
    "# Display the plot\n",
    "plt.show()"
   ]
  },
  {
   "cell_type": "markdown",
   "metadata": {},
   "source": [
    "Just taking a glance, it doesn't seem `weight` was taken to account for most of these admissions. Weight, if measured, could be a indicator for high risk patients. For model creation purposes though, we will exclude `weight` from the rest of the analysis due to lack of data."
   ]
  },
  {
   "cell_type": "markdown",
   "metadata": {},
   "source": []
  }
 ],
 "metadata": {
  "kernelspec": {
   "display_name": "base",
   "language": "python",
   "name": "python3"
  },
  "language_info": {
   "codemirror_mode": {
    "name": "ipython",
    "version": 3
   },
   "file_extension": ".py",
   "mimetype": "text/x-python",
   "name": "python",
   "nbconvert_exporter": "python",
   "pygments_lexer": "ipython3",
   "version": "3.9.13"
  },
  "orig_nbformat": 4
 },
 "nbformat": 4,
 "nbformat_minor": 2
}
